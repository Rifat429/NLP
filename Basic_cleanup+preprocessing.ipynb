{
  "nbformat": 4,
  "nbformat_minor": 0,
  "metadata": {
    "colab": {
      "provenance": [],
      "authorship_tag": "ABX9TyM83b6nSRDPQk9r/GH5CioF",
      "include_colab_link": true
    },
    "kernelspec": {
      "name": "python3",
      "display_name": "Python 3"
    },
    "language_info": {
      "name": "python"
    }
  },
  "cells": [
    {
      "cell_type": "markdown",
      "metadata": {
        "id": "view-in-github",
        "colab_type": "text"
      },
      "source": [
        "<a href=\"https://colab.research.google.com/github/Rifat429/NLP/blob/main/Basic_cleanup%2Bpreprocessing.ipynb\" target=\"_parent\"><img src=\"https://colab.research.google.com/assets/colab-badge.svg\" alt=\"Open In Colab\"/></a>"
      ]
    },
    {
      "cell_type": "code",
      "source": [
        "sample_text=\"\"\"\n",
        "<!DOCTYPE html>\n",
        "<html lang=\"en\">\n",
        "<head>\n",
        "    <meta http-equiv=\"Content-Type\" content=\"text/html; charset=utf-8\" />\n",
        "    <meta http-equiv=\"X-UA-Compatible\" content=\"IE=edge\">\n",
        "    <meta name=\"viewport\" content=\"width=device-width, initial-scale=1\">\n",
        "    <link rel=\"stylesheet\" href=\"https://www.torrentbd.net/themes/material/material-icons/css/material-icons.css\">\n",
        "    <link rel=\"stylesheet\" href=\"https://www.torrentbd.net/themes/material/google-fonts/css/fonts-1004.css\">\n",
        "    <link type=\"text/css\" rel=\"stylesheet\" href=\"https://www.torrentbd.net/themes/material/materialize.min-1002.css\" media=\"screen,projection\"/>\n",
        "    <link rel=\"apple-touch-icon\" sizes=\"180x180\" href=\"https://www.torrentbd.net/themes/material/static/favicon/apple-touch-icon.png\">\n",
        "    <link rel=\"icon\" type=\"image/png\" sizes=\"32x32\" href=\"https://www.torrentbd.net/themes/material/static/favicon/favicon-32x32.png\">\n",
        "    <link rel=\"icon\" type=\"image/png\" sizes=\"16x16\" href=\"https://www.torrentbd.net/themes/material/static/favicon/favicon-16x16.png\">\n",
        "    <link rel=\"manifest\" href=\"https://www.torrentbd.net/themes/material/static/favicon/site.webmanifest\">\n",
        "            <link type=\"text/css\" rel=\"stylesheet\" href=\"https://www.torrentbd.net/themes/material/morph-dark-1010.css\" media=\"screen,projection\"/>\n",
        "            <link type=\"text/css\" rel=\"stylesheet\" href=\"https://www.torrentbd.net/themes/material/morph-1040.css\" media=\"screen,projection\"/>\n",
        "    <link type=\"text/css\" rel=\"stylesheet\" href=\"https://www.torrentbd.net/themes/material/morph-immutable-1001.css\"  media=\"screen,projection\"/>\n",
        "    <script type=\"text/javascript\" src=\"https://www.torrentbd.net/themes/material/jquery-3.5.1.min.js\"></script>\n",
        "    <script type=\"text/javascript\" src=\"https://www.torrentbd.net/themes/material/materialize.min.js\"></script>\n",
        "    <title>Home - TorrentBD</title>\n",
        "</head>\n",
        "\"\"\""
      ],
      "metadata": {
        "id": "LpsIluRbxQfv"
      },
      "execution_count": 2,
      "outputs": []
    },
    {
      "cell_type": "code",
      "source": [
        "import re\n",
        "\n",
        "def striphtml(data):\n",
        "  p= re.compile(r'<.*?>')\n",
        "  return p.sub('',data)"
      ],
      "metadata": {
        "id": "NF3LasVcxTCf"
      },
      "execution_count": 9,
      "outputs": []
    },
    {
      "cell_type": "code",
      "source": [
        "striphtml(sample_text)"
      ],
      "metadata": {
        "colab": {
          "base_uri": "https://localhost:8080/",
          "height": 35
        },
        "id": "j8H4rtXIx4y5",
        "outputId": "247295c2-ea7c-4833-b468-575c49aa44ea"
      },
      "execution_count": 10,
      "outputs": [
        {
          "output_type": "execute_result",
          "data": {
            "text/plain": [
              "'\\n\\n\\n\\n    \\n    \\n    \\n    \\n    \\n    \\n    \\n    \\n    \\n    \\n            \\n            \\n    \\n    \\n    \\n    Home - TorrentBD\\n\\n'"
            ],
            "application/vnd.google.colaboratory.intrinsic+json": {
              "type": "string"
            }
          },
          "metadata": {},
          "execution_count": 10
        }
      ]
    },
    {
      "cell_type": "markdown",
      "source": [
        "UNICODE NORMALIZATION(emojis to unicde)"
      ],
      "metadata": {
        "id": "PcZ9YL5Tyyad"
      }
    },
    {
      "cell_type": "code",
      "source": [
        "emoji_text=\"Text Only in Emojis 💬😃😞💬🤐\"\n",
        "emoji_text.encode('utf-8')"
      ],
      "metadata": {
        "colab": {
          "base_uri": "https://localhost:8080/"
        },
        "id": "GHViGWBWx9mi",
        "outputId": "e789925d-40b4-452a-a615-a39f226cb72d"
      },
      "execution_count": 11,
      "outputs": [
        {
          "output_type": "execute_result",
          "data": {
            "text/plain": [
              "b'Text Only in Emojis \\xf0\\x9f\\x92\\xac\\xf0\\x9f\\x98\\x83\\xf0\\x9f\\x98\\x9e\\xf0\\x9f\\x92\\xac\\xf0\\x9f\\xa4\\x90'"
            ]
          },
          "metadata": {},
          "execution_count": 11
        }
      ]
    },
    {
      "cell_type": "markdown",
      "source": [
        "Spelling Check"
      ],
      "metadata": {
        "id": "eymEMMqVzyAo"
      }
    },
    {
      "cell_type": "code",
      "source": [
        "incorrect_text=\"hellooo Arun, how iss the weeather today?\"\n",
        "\n",
        "from textblob import  TextBlob\n",
        "textblb= TextBlob(incorrect_text)\n",
        "textblb.correct()"
      ],
      "metadata": {
        "colab": {
          "base_uri": "https://localhost:8080/"
        },
        "id": "Q3a4gNtbz1Br",
        "outputId": "ee8c2af8-01ce-4ae6-e7d7-c047da5aae47"
      },
      "execution_count": 16,
      "outputs": [
        {
          "output_type": "execute_result",
          "data": {
            "text/plain": [
              "TextBlob(\"hello Run, how iss the weather today?\")"
            ]
          },
          "metadata": {},
          "execution_count": 16
        }
      ]
    },
    {
      "cell_type": "code",
      "source": [
        "# pip install nltk"
      ],
      "metadata": {
        "id": "HhaXMj-J5JtI"
      },
      "execution_count": 23,
      "outputs": []
    },
    {
      "cell_type": "markdown",
      "source": [
        "TOKENIZATION"
      ],
      "metadata": {
        "id": "zUzZ4DbD4V_H"
      }
    },
    {
      "cell_type": "code",
      "source": [
        "import nltk\n",
        "nltk.download('punkt')\n",
        "from nltk.tokenize import sent_tokenize,word_tokenize\n",
        "\n",
        "sample_text=\"I have a dog. His name is sheero. He is a very playful Dog\"\n",
        "\n",
        "sents= sent_tokenize(sample_text)\n",
        "sents"
      ],
      "metadata": {
        "colab": {
          "base_uri": "https://localhost:8080/"
        },
        "id": "CyUXUAyE0SyZ",
        "outputId": "a4543f8f-a5b9-420d-82ac-8a47ada5a27e"
      },
      "execution_count": 21,
      "outputs": [
        {
          "output_type": "stream",
          "name": "stderr",
          "text": [
            "[nltk_data] Downloading package punkt to /root/nltk_data...\n",
            "[nltk_data]   Unzipping tokenizers/punkt.zip.\n"
          ]
        },
        {
          "output_type": "execute_result",
          "data": {
            "text/plain": [
              "['I have a dog.', 'His name is sheero.', 'He is a very playful Dog']"
            ]
          },
          "metadata": {},
          "execution_count": 21
        }
      ]
    },
    {
      "cell_type": "code",
      "source": [
        "for sent in sents:\n",
        "  print(word_tokenize(sent))"
      ],
      "metadata": {
        "colab": {
          "base_uri": "https://localhost:8080/"
        },
        "id": "gc1PlxXy48Uv",
        "outputId": "81a05bf3-3af7-4d35-fe3d-e1872723e09f"
      },
      "execution_count": 22,
      "outputs": [
        {
          "output_type": "stream",
          "name": "stdout",
          "text": [
            "['I', 'have', 'a', 'dog', '.']\n",
            "['His', 'name', 'is', 'sheero', '.']\n",
            "['He', 'is', 'a', 'very', 'playful', 'Dog']\n"
          ]
        }
      ]
    },
    {
      "cell_type": "code",
      "source": [],
      "metadata": {
        "id": "QCrtx05A5kEK"
      },
      "execution_count": null,
      "outputs": []
    }
  ]
}