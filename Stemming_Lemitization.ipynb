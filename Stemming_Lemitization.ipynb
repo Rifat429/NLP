{
  "nbformat": 4,
  "nbformat_minor": 0,
  "metadata": {
    "colab": {
      "provenance": [],
      "authorship_tag": "ABX9TyOdjDbHuujEB3nt4pzX63DA",
      "include_colab_link": true
    },
    "kernelspec": {
      "name": "python3",
      "display_name": "Python 3"
    },
    "language_info": {
      "name": "python"
    }
  },
  "cells": [
    {
      "cell_type": "markdown",
      "metadata": {
        "id": "view-in-github",
        "colab_type": "text"
      },
      "source": [
        "<a href=\"https://colab.research.google.com/github/Rifat429/NLP/blob/main/Stemming_Lemitization.ipynb\" target=\"_parent\"><img src=\"https://colab.research.google.com/assets/colab-badge.svg\" alt=\"Open In Colab\"/></a>"
      ]
    },
    {
      "cell_type": "markdown",
      "source": [
        "# Stemming"
      ],
      "metadata": {
        "id": "-9d1wVC_Wyft"
      }
    },
    {
      "cell_type": "code",
      "execution_count": 4,
      "metadata": {
        "colab": {
          "base_uri": "https://localhost:8080/"
        },
        "id": "PeHS75U8S4Iu",
        "outputId": "cf618407-a255-47db-9634-e6a286f0a9bc"
      },
      "outputs": [
        {
          "output_type": "stream",
          "name": "stderr",
          "text": [
            "[nltk_data] Downloading package punkt to /root/nltk_data...\n",
            "[nltk_data]   Package punkt is already up-to-date!\n"
          ]
        }
      ],
      "source": [
        "import nltk\n",
        "nltk.download('punkt')\n",
        "\n",
        "from nltk.stem.porter import PorterStemmer\n",
        "\n",
        "ps = PorterStemmer()\n",
        "def stem_words(text):\n",
        "  return \" \".join([ps.stem(word) for word in text.split()])"
      ]
    },
    {
      "cell_type": "code",
      "source": [
        "sample = \"walk walks walking walked\"\n",
        "stem_words(sample)"
      ],
      "metadata": {
        "colab": {
          "base_uri": "https://localhost:8080/",
          "height": 35
        },
        "id": "wr07GWPhThvm",
        "outputId": "72429a74-f267-4c69-c5ec-3bc680ac1445"
      },
      "execution_count": 5,
      "outputs": [
        {
          "output_type": "execute_result",
          "data": {
            "text/plain": [
              "'walk walk walk walk'"
            ],
            "application/vnd.google.colaboratory.intrinsic+json": {
              "type": "string"
            }
          },
          "metadata": {},
          "execution_count": 5
        }
      ]
    },
    {
      "cell_type": "code",
      "source": [
        "text =\"On 6 October 2019, Sunday night, around 8 pm, some 3rd year students summoned Fahad and other second year students to room 2011 of Sher-e-Bangla Hall, claimed Ashikul Islam Bitu, a second year student of Chemical Engineering department and the assistant secretary of BUET Chhatra League. Anick Sarker, a Chhatra League leader, information and research affairs secretary of BUET Chhatra League, also a 4th year student of Mechanical Engineering and Amit Shaha, deputy law affairs secretary of the same unit, led the attack on him and beat Abrar the most.[5] Police had recovered Abrar's body at 3 in the early hours of Monday at the ground floor of Sher-e-Bangla Hall. Abrar was pronounced dead around 3 am by BUET Medical Officer Dr. Md Mashuk Elahi.[6] Footage captured by a closed-circuit camera installed on the residential hall's 2nd floor showed a few people dragging Abrar down the corridor by his hands and feet.\""
      ],
      "metadata": {
        "id": "YlP1dSm9TpHC"
      },
      "execution_count": 6,
      "outputs": []
    },
    {
      "cell_type": "code",
      "source": [
        "stem_words(text)"
      ],
      "metadata": {
        "colab": {
          "base_uri": "https://localhost:8080/",
          "height": 191
        },
        "id": "PYCLbYTeUgMz",
        "outputId": "74d4ac6e-cdaf-40ba-e75b-f13545e8a6f2"
      },
      "execution_count": 7,
      "outputs": [
        {
          "output_type": "execute_result",
          "data": {
            "text/plain": [
              "\"on 6 octob 2019, sunday night, around 8 pm, some 3rd year student summon fahad and other second year student to room 2011 of sher-e-bangla hall, claim ashikul islam bitu, a second year student of chemic engin depart and the assist secretari of buet chhatra league. anick sarker, a chhatra leagu leader, inform and research affair secretari of buet chhatra league, also a 4th year student of mechan engin and amit shaha, deputi law affair secretari of the same unit, led the attack on him and beat abrar the most.[5] polic had recov abrar' bodi at 3 in the earli hour of monday at the ground floor of sher-e-bangla hall. abrar wa pronounc dead around 3 am by buet medic offic dr. md mashuk elahi.[6] footag captur by a closed-circuit camera instal on the residenti hall' 2nd floor show a few peopl drag abrar down the corridor by hi hand and feet.\""
            ],
            "application/vnd.google.colaboratory.intrinsic+json": {
              "type": "string"
            }
          },
          "metadata": {},
          "execution_count": 7
        }
      ]
    },
    {
      "cell_type": "markdown",
      "source": [
        "#Lemmatization"
      ],
      "metadata": {
        "id": "w8L_R4rUWt8X"
      }
    },
    {
      "cell_type": "code",
      "source": [
        "import nltk\n",
        "nltk.download('wordnet')\n",
        "from nltk.stem import WordNetLemmatizer\n",
        "\n",
        "wordnet_lematizer =WordNetLemmatizer()\n",
        "\n",
        "text =\"On 6 October 2019, Sunday night, around 8 pm, some 3rd year students summoned Fahad and other second year students to room 2011 of Sher-e-Bangla Hall, claimed Ashikul Islam Bitu, a second year student of Chemical Engineering department and the assistant secretary of BUET Chhatra League. Anick Sarker, a Chhatra League leader, information and research affairs secretary of BUET Chhatra League, also a 4th year student of Mechanical Engineering and Amit Shaha, deputy law affairs secretary of the same unit, led the attack on him and beat Abrar the most.[5] Police had recovered Abrar's body at 3 in the early hours of Monday at the ground floor of Sher-e-Bangla Hall. Abrar was pronounced dead around 3 am by BUET Medical Officer Dr. Md Mashuk Elahi.[6] Footage captured by a closed-circuit camera installed on the residential hall's 2nd floor showed a few people dragging Abrar down the corridor by his hands and feet.\"\n",
        "\n",
        "punctuations= \"?:!.,;\"\n",
        "\n",
        "sentenc_words= nltk.word_tokenize(text)\n",
        "\n",
        "for word in sentenc_words:\n",
        "  if word in punctuations:\n",
        "    sentenc_words.remove(word)\n",
        "\n",
        "\n",
        "sentenc_words\n",
        "print(\"{0:20}{1:20}\".format(\"Word\",\"Lemma\"))\n",
        "\n",
        "for word in sentenc_words:\n",
        "  print(\"{0:20}{1:20}\".format(word,wordnet_lematizer.lemmatize(word,pos='v')))\n",
        "\n"
      ],
      "metadata": {
        "colab": {
          "base_uri": "https://localhost:8080/"
        },
        "id": "SnjjYn-XUrfo",
        "outputId": "5f997f67-10e1-4563-fe7d-7b6bf392ed18"
      },
      "execution_count": 12,
      "outputs": [
        {
          "output_type": "stream",
          "name": "stdout",
          "text": [
            "Word                Lemma               \n",
            "On                  On                  \n",
            "6                   6                   \n",
            "October             October             \n",
            "2019                2019                \n",
            "Sunday              Sunday              \n",
            "night               night               \n",
            "around              around              \n",
            "8                   8                   \n",
            "pm                  pm                  \n",
            "some                some                \n",
            "3rd                 3rd                 \n",
            "year                year                \n",
            "students            students            \n",
            "summoned            summon              \n",
            "Fahad               Fahad               \n",
            "and                 and                 \n",
            "other               other               \n",
            "second              second              \n",
            "year                year                \n",
            "students            students            \n",
            "to                  to                  \n",
            "room                room                \n",
            "2011                2011                \n",
            "of                  of                  \n",
            "Sher-e-Bangla       Sher-e-Bangla       \n",
            "Hall                Hall                \n",
            "claimed             claim               \n",
            "Ashikul             Ashikul             \n",
            "Islam               Islam               \n",
            "Bitu                Bitu                \n",
            "a                   a                   \n",
            "second              second              \n",
            "year                year                \n",
            "student             student             \n",
            "of                  of                  \n",
            "Chemical            Chemical            \n",
            "Engineering         Engineering         \n",
            "department          department          \n",
            "and                 and                 \n",
            "the                 the                 \n",
            "assistant           assistant           \n",
            "secretary           secretary           \n",
            "of                  of                  \n",
            "BUET                BUET                \n",
            "Chhatra             Chhatra             \n",
            "League              League              \n",
            "Anick               Anick               \n",
            "Sarker              Sarker              \n",
            "a                   a                   \n",
            "Chhatra             Chhatra             \n",
            "League              League              \n",
            "leader              leader              \n",
            "information         information         \n",
            "and                 and                 \n",
            "research            research            \n",
            "affairs             affairs             \n",
            "secretary           secretary           \n",
            "of                  of                  \n",
            "BUET                BUET                \n",
            "Chhatra             Chhatra             \n",
            "League              League              \n",
            "also                also                \n",
            "a                   a                   \n",
            "4th                 4th                 \n",
            "year                year                \n",
            "student             student             \n",
            "of                  of                  \n",
            "Mechanical          Mechanical          \n",
            "Engineering         Engineering         \n",
            "and                 and                 \n",
            "Amit                Amit                \n",
            "Shaha               Shaha               \n",
            "deputy              deputy              \n",
            "law                 law                 \n",
            "affairs             affairs             \n",
            "secretary           secretary           \n",
            "of                  of                  \n",
            "the                 the                 \n",
            "same                same                \n",
            "unit                unit                \n",
            "led                 lead                \n",
            "the                 the                 \n",
            "attack              attack              \n",
            "on                  on                  \n",
            "him                 him                 \n",
            "and                 and                 \n",
            "beat                beat                \n",
            "Abrar               Abrar               \n",
            "the                 the                 \n",
            "most                most                \n",
            "[                   [                   \n",
            "5                   5                   \n",
            "]                   ]                   \n",
            "Police              Police              \n",
            "had                 have                \n",
            "recovered           recover             \n",
            "Abrar               Abrar               \n",
            "'s                  's                  \n",
            "body                body                \n",
            "at                  at                  \n",
            "3                   3                   \n",
            "in                  in                  \n",
            "the                 the                 \n",
            "early               early               \n",
            "hours               hours               \n",
            "of                  of                  \n",
            "Monday              Monday              \n",
            "at                  at                  \n",
            "the                 the                 \n",
            "ground              grind               \n",
            "floor               floor               \n",
            "of                  of                  \n",
            "Sher-e-Bangla       Sher-e-Bangla       \n",
            "Hall                Hall                \n",
            "Abrar               Abrar               \n",
            "was                 be                  \n",
            "pronounced          pronounce           \n",
            "dead                dead                \n",
            "around              around              \n",
            "3                   3                   \n",
            "am                  be                  \n",
            "by                  by                  \n",
            "BUET                BUET                \n",
            "Medical             Medical             \n",
            "Officer             Officer             \n",
            "Dr.                 Dr.                 \n",
            "Md                  Md                  \n",
            "Mashuk              Mashuk              \n",
            "Elahi               Elahi               \n",
            "[                   [                   \n",
            "6                   6                   \n",
            "]                   ]                   \n",
            "Footage             Footage             \n",
            "captured            capture             \n",
            "by                  by                  \n",
            "a                   a                   \n",
            "closed-circuit      closed-circuit      \n",
            "camera              camera              \n",
            "installed           instal              \n",
            "on                  on                  \n",
            "the                 the                 \n",
            "residential         residential         \n",
            "hall                hall                \n",
            "'s                  's                  \n",
            "2nd                 2nd                 \n",
            "floor               floor               \n",
            "showed              show                \n",
            "a                   a                   \n",
            "few                 few                 \n",
            "people              people              \n",
            "dragging            drag                \n",
            "Abrar               Abrar               \n",
            "down                down                \n",
            "the                 the                 \n",
            "corridor            corridor            \n",
            "by                  by                  \n",
            "his                 his                 \n",
            "hands               hand                \n",
            "and                 and                 \n",
            "feet                feet                \n"
          ]
        },
        {
          "output_type": "stream",
          "name": "stderr",
          "text": [
            "[nltk_data] Downloading package wordnet to /root/nltk_data...\n",
            "[nltk_data]   Package wordnet is already up-to-date!\n"
          ]
        }
      ]
    },
    {
      "cell_type": "code",
      "source": [],
      "metadata": {
        "id": "DEbgCbX9YMny"
      },
      "execution_count": null,
      "outputs": []
    }
  ]
}