{
  "metadata": {
    "kernelspec": {
      "language": "python",
      "display_name": "Python 3",
      "name": "python3"
    },
    "language_info": {
      "name": "python",
      "version": "3.10.12",
      "mimetype": "text/x-python",
      "codemirror_mode": {
        "name": "ipython",
        "version": 3
      },
      "pygments_lexer": "ipython3",
      "nbconvert_exporter": "python",
      "file_extension": ".py"
    },
    "colab": {
      "provenance": [],
      "include_colab_link": true
    }
  },
  "nbformat_minor": 0,
  "nbformat": 4,
  "cells": [
    {
      "cell_type": "markdown",
      "metadata": {
        "id": "view-in-github",
        "colab_type": "text"
      },
      "source": [
        "<a href=\"https://colab.research.google.com/github/Rifat429/NLP/blob/main/simplet5.ipynb\" target=\"_parent\"><img src=\"https://colab.research.google.com/assets/colab-badge.svg\" alt=\"Open In Colab\"/></a>"
      ]
    },
    {
      "cell_type": "code",
      "source": [
        "# This Python 3 environment comes with many helpful analytics libraries installed\n",
        "# It is defined by the kaggle/python Docker image: https://github.com/kaggle/docker-python\n",
        "# For example, here's several helpful packages to load\n",
        "\n",
        "import numpy as np # linear algebra\n",
        "import pandas as pd # data processing, CSV file I/O (e.g. pd.read_csv)\n",
        "\n",
        "# Input data files are available in the read-only \"../input/\" directory\n",
        "# For example, running this (by clicking run or pressing Shift+Enter) will list all files under the input directory\n",
        "\n",
        "import os\n",
        "for dirname, _, filenames in os.walk('/kaggle/input'):\n",
        "    for filename in filenames:\n",
        "        print(os.path.join(dirname, filename))\n",
        "\n",
        "# You can write up to 20GB to the current directory (/kaggle/working/) that gets preserved as output when you create a version using \"Save & Run All\"\n",
        "# You can also write temporary files to /kaggle/temp/, but they won't be saved outside of the current session"
      ],
      "metadata": {
        "_uuid": "8f2839f25d086af736a60e9eeb907d3b93b6e0e5",
        "_cell_guid": "b1076dfc-b9ad-4769-8c92-a6c4dae69d19",
        "execution": {
          "iopub.status.busy": "2023-09-21T09:52:11.130843Z",
          "iopub.execute_input": "2023-09-21T09:52:11.131119Z",
          "iopub.status.idle": "2023-09-21T09:52:11.484634Z",
          "shell.execute_reply.started": "2023-09-21T09:52:11.131091Z",
          "shell.execute_reply": "2023-09-21T09:52:11.483345Z"
        },
        "trusted": true,
        "id": "CPPMZ_m5R97C",
        "outputId": "4a4cb287-5d2e-4ff7-ff60-f41b1947e103"
      },
      "execution_count": null,
      "outputs": [
        {
          "name": "stdout",
          "text": "/kaggle/input/news-summary/news_summary_more.csv\n/kaggle/input/news-summary/news_summary.csv\n",
          "output_type": "stream"
        }
      ]
    },
    {
      "cell_type": "code",
      "source": [
        "!pip install simplet5 -q"
      ],
      "metadata": {
        "execution": {
          "iopub.status.busy": "2023-09-21T09:52:11.487018Z",
          "iopub.execute_input": "2023-09-21T09:52:11.487548Z",
          "iopub.status.idle": "2023-09-21T09:52:49.462545Z",
          "shell.execute_reply.started": "2023-09-21T09:52:11.487512Z",
          "shell.execute_reply": "2023-09-21T09:52:49.461051Z"
        },
        "trusted": true,
        "id": "JXm0I1ErR97E",
        "outputId": "c2a84d66-d236-4105-fbe9-c030dc3ebb16"
      },
      "execution_count": null,
      "outputs": [
        {
          "name": "stdout",
          "text": "\u001b[31mERROR: pip's dependency resolver does not currently take into account all the packages that are installed. This behaviour is the source of the following dependency conflicts.\nconda 23.7.3 requires setuptools>=60.0.0, but you have setuptools 59.5.0 which is incompatible.\nopentelemetry-api 1.18.0 requires importlib-metadata~=6.0.0, but you have importlib-metadata 6.7.0 which is incompatible.\npymc3 3.11.5 requires numpy<1.22.2,>=1.15.0, but you have numpy 1.23.5 which is incompatible.\npymc3 3.11.5 requires scipy<1.8.0,>=1.7.3, but you have scipy 1.11.2 which is incompatible.\u001b[0m\u001b[31m\n\u001b[0m",
          "output_type": "stream"
        }
      ]
    },
    {
      "cell_type": "code",
      "source": [
        "df = pd.read_csv(\"../input/news-summary/news_summary.csv\", encoding='latin-1', usecols=['headlines', 'text'])"
      ],
      "metadata": {
        "execution": {
          "iopub.status.busy": "2023-09-21T09:52:49.464656Z",
          "iopub.execute_input": "2023-09-21T09:52:49.465026Z",
          "iopub.status.idle": "2023-09-21T09:52:49.650512Z",
          "shell.execute_reply.started": "2023-09-21T09:52:49.464987Z",
          "shell.execute_reply": "2023-09-21T09:52:49.649543Z"
        },
        "trusted": true,
        "id": "hTC0ySmgR97E"
      },
      "execution_count": null,
      "outputs": []
    },
    {
      "cell_type": "code",
      "source": [
        "df.head()"
      ],
      "metadata": {
        "execution": {
          "iopub.status.busy": "2023-09-21T09:52:49.653476Z",
          "iopub.execute_input": "2023-09-21T09:52:49.653812Z",
          "iopub.status.idle": "2023-09-21T09:52:49.674621Z",
          "shell.execute_reply.started": "2023-09-21T09:52:49.653778Z",
          "shell.execute_reply": "2023-09-21T09:52:49.673421Z"
        },
        "trusted": true,
        "id": "J2mazf60R97F",
        "outputId": "7cbd5bc0-cde1-481e-be30-cc70097fe27b"
      },
      "execution_count": null,
      "outputs": [
        {
          "execution_count": 4,
          "output_type": "execute_result",
          "data": {
            "text/plain": "                                           headlines  \\\n0  Daman & Diu revokes mandatory Rakshabandhan in...   \n1  Malaika slams user who trolled her for 'divorc...   \n2  'Virgin' now corrected to 'Unmarried' in IGIMS...   \n3  Aaj aapne pakad liya: LeT man Dujana before be...   \n4  Hotel staff to get training to spot signs of s...   \n\n                                                text  \n0  The Administration of Union Territory Daman an...  \n1  Malaika Arora slammed an Instagram user who tr...  \n2  The Indira Gandhi Institute of Medical Science...  \n3  Lashkar-e-Taiba's Kashmir commander Abu Dujana...  \n4  Hotels in Maharashtra will train their staff t...  ",
            "text/html": "<div>\n<style scoped>\n    .dataframe tbody tr th:only-of-type {\n        vertical-align: middle;\n    }\n\n    .dataframe tbody tr th {\n        vertical-align: top;\n    }\n\n    .dataframe thead th {\n        text-align: right;\n    }\n</style>\n<table border=\"1\" class=\"dataframe\">\n  <thead>\n    <tr style=\"text-align: right;\">\n      <th></th>\n      <th>headlines</th>\n      <th>text</th>\n    </tr>\n  </thead>\n  <tbody>\n    <tr>\n      <th>0</th>\n      <td>Daman &amp; Diu revokes mandatory Rakshabandhan in...</td>\n      <td>The Administration of Union Territory Daman an...</td>\n    </tr>\n    <tr>\n      <th>1</th>\n      <td>Malaika slams user who trolled her for 'divorc...</td>\n      <td>Malaika Arora slammed an Instagram user who tr...</td>\n    </tr>\n    <tr>\n      <th>2</th>\n      <td>'Virgin' now corrected to 'Unmarried' in IGIMS...</td>\n      <td>The Indira Gandhi Institute of Medical Science...</td>\n    </tr>\n    <tr>\n      <th>3</th>\n      <td>Aaj aapne pakad liya: LeT man Dujana before be...</td>\n      <td>Lashkar-e-Taiba's Kashmir commander Abu Dujana...</td>\n    </tr>\n    <tr>\n      <th>4</th>\n      <td>Hotel staff to get training to spot signs of s...</td>\n      <td>Hotels in Maharashtra will train their staff t...</td>\n    </tr>\n  </tbody>\n</table>\n</div>"
          },
          "metadata": {}
        }
      ]
    },
    {
      "cell_type": "code",
      "source": [
        "# simpleT5 expects dataframe to have 2 columns: \"source_text\" and \"target_text\"\n",
        "df = df.rename(columns={\"headlines\":\"target_text\", \"text\":\"source_text\"})\n",
        "df = df[['source_text', 'target_text']]"
      ],
      "metadata": {
        "execution": {
          "iopub.status.busy": "2023-09-21T09:52:49.676248Z",
          "iopub.execute_input": "2023-09-21T09:52:49.676725Z",
          "iopub.status.idle": "2023-09-21T09:52:49.691955Z",
          "shell.execute_reply.started": "2023-09-21T09:52:49.676687Z",
          "shell.execute_reply": "2023-09-21T09:52:49.690785Z"
        },
        "trusted": true,
        "id": "hYkrty8pR97F"
      },
      "execution_count": null,
      "outputs": []
    },
    {
      "cell_type": "code",
      "source": [
        "# T5 model expects a task related prefix: since it is a summarization task, we will add a prefix \"summarize: \"\n",
        "df['source_text'] = \"summarize: \" + df['source_text']\n",
        "df"
      ],
      "metadata": {
        "execution": {
          "iopub.status.busy": "2023-09-21T09:52:49.693292Z",
          "iopub.execute_input": "2023-09-21T09:52:49.693689Z",
          "iopub.status.idle": "2023-09-21T09:52:49.713362Z",
          "shell.execute_reply.started": "2023-09-21T09:52:49.693652Z",
          "shell.execute_reply": "2023-09-21T09:52:49.712313Z"
        },
        "trusted": true,
        "id": "p5RH2H5yR97F",
        "outputId": "7b525154-ff03-46bd-de68-b102c737ad1b"
      },
      "execution_count": null,
      "outputs": [
        {
          "execution_count": 6,
          "output_type": "execute_result",
          "data": {
            "text/plain": "                                            source_text  \\\n0     summarize: The Administration of Union Territo...   \n1     summarize: Malaika Arora slammed an Instagram ...   \n2     summarize: The Indira Gandhi Institute of Medi...   \n3     summarize: Lashkar-e-Taiba's Kashmir commander...   \n4     summarize: Hotels in Maharashtra will train th...   \n...                                                 ...   \n4509  summarize: Fruit juice concentrate maker Rasna...   \n4510  summarize: Former Indian cricketer Sachin Tend...   \n4511  summarize: Aamir Khan, while talking about rea...   \n4512  summarize: The Maharashtra government has init...   \n4513  summarize: At least 400 languages or more than...   \n\n                                            target_text  \n0     Daman & Diu revokes mandatory Rakshabandhan in...  \n1     Malaika slams user who trolled her for 'divorc...  \n2     'Virgin' now corrected to 'Unmarried' in IGIMS...  \n3     Aaj aapne pakad liya: LeT man Dujana before be...  \n4     Hotel staff to get training to spot signs of s...  \n...                                                 ...  \n4509  Rasna seeking ?250 cr revenue from snack categ...  \n4510  Sachin attends Rajya Sabha after questions on ...  \n4511  Shouldn't rob their childhood: Aamir on kids r...  \n4512  Asha Bhosle gets ?53,000 power bill for unused...  \n4513  More than half of India's languages may die in...  \n\n[4514 rows x 2 columns]",
            "text/html": "<div>\n<style scoped>\n    .dataframe tbody tr th:only-of-type {\n        vertical-align: middle;\n    }\n\n    .dataframe tbody tr th {\n        vertical-align: top;\n    }\n\n    .dataframe thead th {\n        text-align: right;\n    }\n</style>\n<table border=\"1\" class=\"dataframe\">\n  <thead>\n    <tr style=\"text-align: right;\">\n      <th></th>\n      <th>source_text</th>\n      <th>target_text</th>\n    </tr>\n  </thead>\n  <tbody>\n    <tr>\n      <th>0</th>\n      <td>summarize: The Administration of Union Territo...</td>\n      <td>Daman &amp; Diu revokes mandatory Rakshabandhan in...</td>\n    </tr>\n    <tr>\n      <th>1</th>\n      <td>summarize: Malaika Arora slammed an Instagram ...</td>\n      <td>Malaika slams user who trolled her for 'divorc...</td>\n    </tr>\n    <tr>\n      <th>2</th>\n      <td>summarize: The Indira Gandhi Institute of Medi...</td>\n      <td>'Virgin' now corrected to 'Unmarried' in IGIMS...</td>\n    </tr>\n    <tr>\n      <th>3</th>\n      <td>summarize: Lashkar-e-Taiba's Kashmir commander...</td>\n      <td>Aaj aapne pakad liya: LeT man Dujana before be...</td>\n    </tr>\n    <tr>\n      <th>4</th>\n      <td>summarize: Hotels in Maharashtra will train th...</td>\n      <td>Hotel staff to get training to spot signs of s...</td>\n    </tr>\n    <tr>\n      <th>...</th>\n      <td>...</td>\n      <td>...</td>\n    </tr>\n    <tr>\n      <th>4509</th>\n      <td>summarize: Fruit juice concentrate maker Rasna...</td>\n      <td>Rasna seeking ?250 cr revenue from snack categ...</td>\n    </tr>\n    <tr>\n      <th>4510</th>\n      <td>summarize: Former Indian cricketer Sachin Tend...</td>\n      <td>Sachin attends Rajya Sabha after questions on ...</td>\n    </tr>\n    <tr>\n      <th>4511</th>\n      <td>summarize: Aamir Khan, while talking about rea...</td>\n      <td>Shouldn't rob their childhood: Aamir on kids r...</td>\n    </tr>\n    <tr>\n      <th>4512</th>\n      <td>summarize: The Maharashtra government has init...</td>\n      <td>Asha Bhosle gets ?53,000 power bill for unused...</td>\n    </tr>\n    <tr>\n      <th>4513</th>\n      <td>summarize: At least 400 languages or more than...</td>\n      <td>More than half of India's languages may die in...</td>\n    </tr>\n  </tbody>\n</table>\n<p>4514 rows × 2 columns</p>\n</div>"
          },
          "metadata": {}
        }
      ]
    },
    {
      "cell_type": "code",
      "source": [
        "import numpy as np # linear algebra\n",
        "import pandas as pd # data processing, CSV file I/O (e.g. pd.read_csv)\n",
        "from sklearn.model_selection import train_test_split\n",
        "\n",
        "train_df, test_df = train_test_split(df, test_size=0.3)\n",
        "train_df.shape, test_df.shape"
      ],
      "metadata": {
        "execution": {
          "iopub.status.busy": "2023-09-21T09:52:49.714985Z",
          "iopub.execute_input": "2023-09-21T09:52:49.715722Z",
          "iopub.status.idle": "2023-09-21T09:52:50.234763Z",
          "shell.execute_reply.started": "2023-09-21T09:52:49.715655Z",
          "shell.execute_reply": "2023-09-21T09:52:50.233855Z"
        },
        "trusted": true,
        "id": "5skXEVRiR97F",
        "outputId": "131d58cc-a4e9-4194-dbeb-4818de2bd2a2"
      },
      "execution_count": null,
      "outputs": [
        {
          "name": "stderr",
          "text": "/opt/conda/lib/python3.10/site-packages/scipy/__init__.py:146: UserWarning: A NumPy version >=1.16.5 and <1.23.0 is required for this version of SciPy (detected version 1.23.5\n  warnings.warn(f\"A NumPy version >={np_minversion} and <{np_maxversion}\"\n",
          "output_type": "stream"
        },
        {
          "execution_count": 7,
          "output_type": "execute_result",
          "data": {
            "text/plain": "((3159, 2), (1355, 2))"
          },
          "metadata": {}
        }
      ]
    },
    {
      "cell_type": "code",
      "source": [
        "from simplet5 import SimpleT5\n",
        "\n",
        "model = SimpleT5()\n",
        "model.from_pretrained(model_type=\"t5\", model_name=\"t5-base\")"
      ],
      "metadata": {
        "execution": {
          "iopub.status.busy": "2023-09-21T09:52:50.236493Z",
          "iopub.execute_input": "2023-09-21T09:52:50.236882Z",
          "iopub.status.idle": "2023-09-21T09:53:25.302069Z",
          "shell.execute_reply.started": "2023-09-21T09:52:50.236829Z",
          "shell.execute_reply": "2023-09-21T09:53:25.301023Z"
        },
        "trusted": true,
        "id": "JJkrOSDeR97F",
        "outputId": "5fc53ffc-63c2-4127-edc3-b14d74e523df",
        "colab": {
          "referenced_widgets": [
            "b4c86f7ff3b74d468a11749003dc6dee",
            "39c512e6798045e287b99f0ce4f8d584",
            "5ceff39c4703402f894e02d8dcfab2a1",
            "da4ccccd67c842edb4ad721cbd51e656"
          ]
        }
      },
      "execution_count": null,
      "outputs": [
        {
          "output_type": "display_data",
          "data": {
            "text/plain": "Downloading:   0%|          | 0.00/773k [00:00<?, ?B/s]",
            "application/vnd.jupyter.widget-view+json": {
              "version_major": 2,
              "version_minor": 0,
              "model_id": "b4c86f7ff3b74d468a11749003dc6dee"
            }
          },
          "metadata": {}
        },
        {
          "output_type": "display_data",
          "data": {
            "text/plain": "Downloading:   0%|          | 0.00/1.32M [00:00<?, ?B/s]",
            "application/vnd.jupyter.widget-view+json": {
              "version_major": 2,
              "version_minor": 0,
              "model_id": "39c512e6798045e287b99f0ce4f8d584"
            }
          },
          "metadata": {}
        },
        {
          "output_type": "display_data",
          "data": {
            "text/plain": "Downloading:   0%|          | 0.00/1.18k [00:00<?, ?B/s]",
            "application/vnd.jupyter.widget-view+json": {
              "version_major": 2,
              "version_minor": 0,
              "model_id": "5ceff39c4703402f894e02d8dcfab2a1"
            }
          },
          "metadata": {}
        },
        {
          "output_type": "display_data",
          "data": {
            "text/plain": "Downloading:   0%|          | 0.00/850M [00:00<?, ?B/s]",
            "application/vnd.jupyter.widget-view+json": {
              "version_major": 2,
              "version_minor": 0,
              "model_id": "da4ccccd67c842edb4ad721cbd51e656"
            }
          },
          "metadata": {}
        }
      ]
    },
    {
      "cell_type": "code",
      "source": [
        "model.train(train_df=train_df[:5000],\n",
        "            eval_df=test_df[:100],\n",
        "            source_max_token_len=128,\n",
        "            target_max_token_len=50,\n",
        "            batch_size=8, max_epochs=5, use_gpu=True)"
      ],
      "metadata": {
        "execution": {
          "iopub.status.busy": "2023-09-21T09:53:25.303714Z",
          "iopub.execute_input": "2023-09-21T09:53:25.304106Z",
          "iopub.status.idle": "2023-09-21T10:07:46.255217Z",
          "shell.execute_reply.started": "2023-09-21T09:53:25.304070Z",
          "shell.execute_reply": "2023-09-21T10:07:46.254110Z"
        },
        "trusted": true,
        "id": "Ges6wTrOR97F",
        "outputId": "bf99562c-82c4-4863-fb3e-36b726e8d9b2",
        "colab": {
          "referenced_widgets": [
            "",
            "ce1f677defaf4f8884f5060dae6b64db"
          ]
        }
      },
      "execution_count": null,
      "outputs": [
        {
          "output_type": "display_data",
          "data": {
            "text/plain": "Validation sanity check: 0it [00:00, ?it/s]",
            "application/vnd.jupyter.widget-view+json": {
              "version_major": 2,
              "version_minor": 0,
              "model_id": ""
            }
          },
          "metadata": {}
        },
        {
          "output_type": "display_data",
          "data": {
            "text/plain": "Training: 0it [00:00, ?it/s]",
            "application/vnd.jupyter.widget-view+json": {
              "version_major": 2,
              "version_minor": 0,
              "model_id": "ce1f677defaf4f8884f5060dae6b64db"
            }
          },
          "metadata": {}
        },
        {
          "output_type": "display_data",
          "data": {
            "text/plain": "Validating: 0it [00:00, ?it/s]",
            "application/vnd.jupyter.widget-view+json": {
              "version_major": 2,
              "version_minor": 0,
              "model_id": ""
            }
          },
          "metadata": {}
        },
        {
          "output_type": "display_data",
          "data": {
            "text/plain": "Validating: 0it [00:00, ?it/s]",
            "application/vnd.jupyter.widget-view+json": {
              "version_major": 2,
              "version_minor": 0,
              "model_id": ""
            }
          },
          "metadata": {}
        },
        {
          "output_type": "display_data",
          "data": {
            "text/plain": "Validating: 0it [00:00, ?it/s]",
            "application/vnd.jupyter.widget-view+json": {
              "version_major": 2,
              "version_minor": 0,
              "model_id": ""
            }
          },
          "metadata": {}
        },
        {
          "output_type": "display_data",
          "data": {
            "text/plain": "Validating: 0it [00:00, ?it/s]",
            "application/vnd.jupyter.widget-view+json": {
              "version_major": 2,
              "version_minor": 0,
              "model_id": ""
            }
          },
          "metadata": {}
        },
        {
          "output_type": "display_data",
          "data": {
            "text/plain": "Validating: 0it [00:00, ?it/s]",
            "application/vnd.jupyter.widget-view+json": {
              "version_major": 2,
              "version_minor": 0,
              "model_id": ""
            }
          },
          "metadata": {}
        }
      ]
    },
    {
      "cell_type": "code",
      "source": [
        "! ( cd outputs; ls )"
      ],
      "metadata": {
        "execution": {
          "iopub.status.busy": "2023-09-21T10:07:46.259569Z",
          "iopub.execute_input": "2023-09-21T10:07:46.259885Z",
          "iopub.status.idle": "2023-09-21T10:07:47.476590Z",
          "shell.execute_reply.started": "2023-09-21T10:07:46.259858Z",
          "shell.execute_reply": "2023-09-21T10:07:47.475347Z"
        },
        "trusted": true,
        "id": "J5C3d-R3R97G",
        "outputId": "9cce0b34-bd12-49ca-b624-d8f472d55535"
      },
      "execution_count": null,
      "outputs": [
        {
          "name": "stdout",
          "text": "simplet5-epoch-0-train-loss-1.5961-val-loss-1.3416\nsimplet5-epoch-1-train-loss-1.1574-val-loss-1.3194\nsimplet5-epoch-2-train-loss-0.9204-val-loss-1.3707\nsimplet5-epoch-3-train-loss-0.7506-val-loss-1.4056\nsimplet5-epoch-4-train-loss-0.611-val-loss-1.4655\n",
          "output_type": "stream"
        }
      ]
    },
    {
      "cell_type": "code",
      "source": [
        "# let's load the trained model from the local output folder for inferencing:\n",
        "model.load_model(\"t5\",\"/kaggle/working/outputs/simplet5-epoch-0-train-loss-1.5961-val-loss-1.3416\", use_gpu=True)"
      ],
      "metadata": {
        "execution": {
          "iopub.status.busy": "2023-09-21T10:26:08.498976Z",
          "iopub.execute_input": "2023-09-21T10:26:08.500005Z",
          "iopub.status.idle": "2023-09-21T10:26:11.584577Z",
          "shell.execute_reply.started": "2023-09-21T10:26:08.499961Z",
          "shell.execute_reply": "2023-09-21T10:26:11.583508Z"
        },
        "trusted": true,
        "id": "eWFBsoURR97G"
      },
      "execution_count": null,
      "outputs": []
    },
    {
      "cell_type": "code",
      "source": [
        "text_to_summarize=\"\"\"summarize: Twitter’s interim resident grievance officer for India has stepped down, leaving the micro-blogging site without a grievance official as mandated by the new IT rules to address complaints from Indian subscribers, according to a source.\n",
        "\n",
        "The source said that Dharmendra Chatur, who was recently appointed as interim resident grievance officer for India by Twitter, has quit from the post.\n",
        "\n",
        "The social media company’s website no longer displays his name, as required under Information Technology (Intermediary Guidelines and Digital Media Ethics Code) Rules 2021.\n",
        "\n",
        "Twitter declined to comment on the development.\n",
        "\n",
        "The development comes at a time when the micro-blogging platform has been engaged in a tussle with the Indian government over the new social media rules. The government has slammed Twitter for deliberate defiance and failure to comply with the country’s new IT rules.\n",
        "\"\"\"\n",
        "model.predict(text_to_summarize)"
      ],
      "metadata": {
        "execution": {
          "iopub.status.busy": "2023-09-21T10:26:11.586735Z",
          "iopub.execute_input": "2023-09-21T10:26:11.587115Z",
          "iopub.status.idle": "2023-09-21T10:26:11.934230Z",
          "shell.execute_reply.started": "2023-09-21T10:26:11.587080Z",
          "shell.execute_reply": "2023-09-21T10:26:11.933185Z"
        },
        "trusted": true,
        "id": "6Y4C4v_wR97G",
        "outputId": "158ce783-5c04-40ee-d7ce-2d9413a5b5d2"
      },
      "execution_count": null,
      "outputs": [
        {
          "execution_count": 14,
          "output_type": "execute_result",
          "data": {
            "text/plain": "[\"Twitter's interim grievance officer for India steps down: Source\"]"
          },
          "metadata": {}
        }
      ]
    },
    {
      "cell_type": "code",
      "source": [
        "text_to_summarize=\"\"\"summarize: Vaccination and safety measures such as wearing face masks are essential when it comes to fighting the Delta Plus coronavirus variant, World Health Organization (WHO) representative to Russia Melita Vujnovic said.\n",
        "\n",
        "\"Vaccination plus masks, because just a vaccine is not enough with 'Delta Plus'. We need to make an effort over a short period of time, otherwise there would be a lockdown,\" Vujnovic said on the Soloviev Live YouTube show.\n",
        "\n",
        "She explained that vaccination is essential because it lowers the probability of spreading the virus and lowers the risks of severe disease. However, \"additional measures\" will probably be required as well, Vujnovic warned.\n",
        "\n",
        "Earlier in June, the WHO included the Delta variant in its list of coronavirus variants of concern as the strain had become prevalent and has caused a resurgence of COVID-19 cases in some countries, including Russia. India has also reported multiple cases of the Delta Plus strain, which was first discovered in March.\n",
        "\"\"\"\n",
        "model.predict(text_to_summarize)"
      ],
      "metadata": {
        "execution": {
          "iopub.status.busy": "2023-09-21T10:26:11.935666Z",
          "iopub.execute_input": "2023-09-21T10:26:11.936036Z",
          "iopub.status.idle": "2023-09-21T10:26:12.256437Z",
          "shell.execute_reply.started": "2023-09-21T10:26:11.935999Z",
          "shell.execute_reply": "2023-09-21T10:26:12.255275Z"
        },
        "trusted": true,
        "id": "7nGqU-GOR97G",
        "outputId": "5018cebb-6984-43c4-a8a6-a4a7a7e65a84"
      },
      "execution_count": null,
      "outputs": [
        {
          "execution_count": 15,
          "output_type": "execute_result",
          "data": {
            "text/plain": "['Vaccination, masks essential to fight Delta Plus: WHO']"
          },
          "metadata": {}
        }
      ]
    },
    {
      "cell_type": "code",
      "source": [
        "text_to_summarize=\"\"\"summarize: Travellers vaccinated with Covishield may not be eligible for the European Union’s ‘Green Pass’ that will be available for use from July 1. Many EU member states have started issuing the digital “vaccine passport” that will enable Europeans to move freely for work or tourism. The immunity passport will serve as proof that a person has been vaccinated against the coronavirus disease (Covid-19), or recently tested negative for the virus, or has the natural immunity built up from earlier infection.Covishield, a version of AstraZeneca Covid vaccine manufactured by Pune-based Serum Institute of India (SII), has not been approved by the EMA for the European market. The EU green pass will only recognise the Vaxzervria version of the AstraZeneca vaccine that is manufactured in the UK or other sites around Europe.\n",
        "\"\"\"\n",
        "model.predict(text_to_summarize)"
      ],
      "metadata": {
        "execution": {
          "iopub.status.busy": "2023-09-21T10:26:12.258821Z",
          "iopub.execute_input": "2023-09-21T10:26:12.259230Z",
          "iopub.status.idle": "2023-09-21T10:26:12.678338Z",
          "shell.execute_reply.started": "2023-09-21T10:26:12.259191Z",
          "shell.execute_reply": "2023-09-21T10:26:12.677321Z"
        },
        "trusted": true,
        "id": "mjFIHzb4R97H",
        "outputId": "9e046c22-2c12-418f-db65-e5adade4bf57"
      },
      "execution_count": null,
      "outputs": [
        {
          "execution_count": 16,
          "output_type": "execute_result",
          "data": {
            "text/plain": "['Travellers vaccinated with Covishield may not be eligible for EU green pass']"
          },
          "metadata": {}
        }
      ]
    },
    {
      "cell_type": "code",
      "source": [],
      "metadata": {
        "id": "1lIkLv2_R97H"
      },
      "execution_count": null,
      "outputs": []
    }
  ]
}