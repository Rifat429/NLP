{
  "nbformat": 4,
  "nbformat_minor": 0,
  "metadata": {
    "colab": {
      "provenance": [],
      "include_colab_link": true
    },
    "kernelspec": {
      "name": "python3",
      "display_name": "Python 3"
    },
    "language_info": {
      "name": "python"
    }
  },
  "cells": [
    {
      "cell_type": "markdown",
      "metadata": {
        "id": "view-in-github",
        "colab_type": "text"
      },
      "source": [
        "<a href=\"https://colab.research.google.com/github/Rifat429/NLP/blob/main/Text_representation.ipynb\" target=\"_parent\"><img src=\"https://colab.research.google.com/assets/colab-badge.svg\" alt=\"Open In Colab\"/></a>"
      ]
    },
    {
      "cell_type": "markdown",
      "source": [
        "\n",
        "####################\n",
        "The most common techniques for converting text to numbers are One Hot Encoding, Bag of Words, n-grams, Tfidf and custom features(which is developed by the coder according to the domain knowledge)\n",
        "```\n",
        "# This is formatted as code\n",
        "```\n",
        "\n"
      ],
      "metadata": {
        "id": "Txwsh6TLyLzZ"
      }
    },
    {
      "cell_type": "markdown",
      "source": [
        "**Word2VEc is another way to transform word to numbers\n",
        " and it is for deep learning**"
      ],
      "metadata": {
        "id": "1SDkxbPgyr0Z"
      }
    },
    {
      "cell_type": "markdown",
      "source": [],
      "metadata": {
        "id": "r9lACzxYy0KR"
      }
    },
    {
      "cell_type": "markdown",
      "source": [
        "**for text classification bag of words is very effective and it is proved by many researchers.**"
      ],
      "metadata": {
        "id": "havmg32YT8kO"
      }
    },
    {
      "cell_type": "markdown",
      "source": [
        "**For text classification bag of words is very popular\n",
        "1. it does not consider order of words\n",
        "2. it just consider the frequencies of wordin a document\n",
        "3. it also does not consider semantic meaning of sentences.**"
      ],
      "metadata": {
        "id": "Mt64XN5_93tR"
      }
    },
    {
      "cell_type": "code",
      "source": [
        "import pandas as pd\n",
        "import random\n",
        "\n",
        "# Sample text data\n",
        "text_data = [\n",
        "    \"This is a positive sentence.\",\n",
        "    \"Negative sentiment is not good.\",\n",
        "    \"The weather today is fantastic.\",\n",
        "    \"I dislike the taste immensely.\",\n",
        "    \"Coding is fun and challenging.\",\n",
        "    \"I hate waiting for buses.\",\n",
        "    \"The cat jumped over fences.\",\n",
        "    \"I love learning new things.\",\n",
        "    \"Winter is my favorite season.\",\n",
        "    \"I can't stand boring lectures.\"\n",
        "]\n",
        "\n",
        "# Randomly assign binary class (0 or 1) to each sentence\n",
        "binary_class = [random.choice([0, 1]) for _ in range(len(text_data))]\n",
        "\n",
        "# Create DataFrame\n",
        "df = pd.DataFrame({\n",
        "    'Text': text_data,\n",
        "    'BinaryClass': binary_class\n",
        "})\n",
        "\n",
        "# Display the DataFrame\n",
        "print(df)"
      ],
      "metadata": {
        "id": "ucHUe2t_-HE8",
        "colab": {
          "base_uri": "https://localhost:8080/"
        },
        "outputId": "e8d3be7c-787a-4987-94ee-01286705632e"
      },
      "execution_count": 2,
      "outputs": [
        {
          "output_type": "stream",
          "name": "stdout",
          "text": [
            "                              Text  BinaryClass\n",
            "0     This is a positive sentence.            0\n",
            "1  Negative sentiment is not good.            1\n",
            "2  The weather today is fantastic.            0\n",
            "3   I dislike the taste immensely.            0\n",
            "4   Coding is fun and challenging.            0\n",
            "5        I hate waiting for buses.            0\n",
            "6      The cat jumped over fences.            1\n",
            "7      I love learning new things.            1\n",
            "8    Winter is my favorite season.            0\n",
            "9   I can't stand boring lectures.            1\n"
          ]
        }
      ]
    },
    {
      "cell_type": "code",
      "source": [
        "# prompt: from sklearn import countervectorizer\n",
        "\n",
        "from sklearn.feature_extraction.text import CountVectorizer\n",
        "\n",
        "# Create CountVectorizer object\n",
        "vectorizer = CountVectorizer()\n",
        "\n",
        "# Fit and transform the text data\n",
        "vectorized_data = vectorizer.fit_transform(df['Text'])\n",
        "\n",
        "# Print the shape of the vectorized data\n",
        "print(vectorized_data.shape)\n"
      ],
      "metadata": {
        "colab": {
          "base_uri": "https://localhost:8080/"
        },
        "id": "UXVR0fj3awad",
        "outputId": "acf59abb-eeb9-4d4b-b902-5b011b31a791"
      },
      "execution_count": null,
      "outputs": [
        {
          "output_type": "stream",
          "name": "stdout",
          "text": [
            "(10, 39)\n"
          ]
        }
      ]
    },
    {
      "cell_type": "code",
      "source": [
        "print(vectorized_data)"
      ],
      "metadata": {
        "colab": {
          "base_uri": "https://localhost:8080/"
        },
        "id": "OkMMy5PfbE6X",
        "outputId": "878462d7-58fc-44bb-efc6-835020624784"
      },
      "execution_count": null,
      "outputs": [
        {
          "output_type": "stream",
          "name": "stdout",
          "text": [
            "  (0, 34)\t1\n",
            "  (0, 16)\t1\n",
            "  (0, 26)\t1\n",
            "  (0, 28)\t1\n",
            "  (1, 16)\t1\n",
            "  (1, 22)\t1\n",
            "  (1, 29)\t1\n",
            "  (1, 24)\t1\n",
            "  (1, 13)\t1\n",
            "  (2, 16)\t1\n",
            "  (2, 32)\t1\n",
            "  (2, 37)\t1\n",
            "  (2, 35)\t1\n",
            "  (2, 8)\t1\n",
            "  (3, 32)\t1\n",
            "  (3, 7)\t1\n",
            "  (3, 31)\t1\n",
            "  (3, 15)\t1\n",
            "  (4, 16)\t1\n",
            "  (4, 6)\t1\n",
            "  (4, 12)\t1\n",
            "  (4, 0)\t1\n",
            "  (4, 5)\t1\n",
            "  (5, 14)\t1\n",
            "  (5, 36)\t1\n",
            "  (5, 11)\t1\n",
            "  (5, 2)\t1\n",
            "  (6, 32)\t1\n",
            "  (6, 4)\t1\n",
            "  (6, 17)\t1\n",
            "  (6, 25)\t1\n",
            "  (6, 10)\t1\n",
            "  (7, 20)\t1\n",
            "  (7, 18)\t1\n",
            "  (7, 23)\t1\n",
            "  (7, 33)\t1\n",
            "  (8, 16)\t1\n",
            "  (8, 38)\t1\n",
            "  (8, 21)\t1\n",
            "  (8, 9)\t1\n",
            "  (8, 27)\t1\n",
            "  (9, 3)\t1\n",
            "  (9, 30)\t1\n",
            "  (9, 1)\t1\n",
            "  (9, 19)\t1\n"
          ]
        }
      ]
    },
    {
      "cell_type": "code",
      "source": [
        "vectorizer.vocabulary_"
      ],
      "metadata": {
        "colab": {
          "base_uri": "https://localhost:8080/"
        },
        "id": "W8Yz0esKbHmf",
        "outputId": "c14c9fdd-f6c6-4575-f271-19a76e286a1d"
      },
      "execution_count": null,
      "outputs": [
        {
          "output_type": "execute_result",
          "data": {
            "text/plain": [
              "{'this': 34,\n",
              " 'is': 16,\n",
              " 'positive': 26,\n",
              " 'sentence': 28,\n",
              " 'negative': 22,\n",
              " 'sentiment': 29,\n",
              " 'not': 24,\n",
              " 'good': 13,\n",
              " 'the': 32,\n",
              " 'weather': 37,\n",
              " 'today': 35,\n",
              " 'fantastic': 8,\n",
              " 'dislike': 7,\n",
              " 'taste': 31,\n",
              " 'immensely': 15,\n",
              " 'coding': 6,\n",
              " 'fun': 12,\n",
              " 'and': 0,\n",
              " 'challenging': 5,\n",
              " 'hate': 14,\n",
              " 'waiting': 36,\n",
              " 'for': 11,\n",
              " 'buses': 2,\n",
              " 'cat': 4,\n",
              " 'jumped': 17,\n",
              " 'over': 25,\n",
              " 'fences': 10,\n",
              " 'love': 20,\n",
              " 'learning': 18,\n",
              " 'new': 23,\n",
              " 'things': 33,\n",
              " 'winter': 38,\n",
              " 'my': 21,\n",
              " 'favorite': 9,\n",
              " 'season': 27,\n",
              " 'can': 3,\n",
              " 'stand': 30,\n",
              " 'boring': 1,\n",
              " 'lectures': 19}"
            ]
          },
          "metadata": {},
          "execution_count": 5
        }
      ]
    },
    {
      "cell_type": "code",
      "source": [
        "vectorized_data[0].toarray()"
      ],
      "metadata": {
        "colab": {
          "base_uri": "https://localhost:8080/"
        },
        "id": "mbfDLpKcbflv",
        "outputId": "1cb5d52d-dcfb-4f0f-d067-0b6eb2bf7efc"
      },
      "execution_count": null,
      "outputs": [
        {
          "output_type": "execute_result",
          "data": {
            "text/plain": [
              "array([[0, 0, 0, 0, 0, 0, 0, 0, 0, 0, 0, 0, 0, 0, 0, 0, 1, 0, 0, 0, 0, 0,\n",
              "        0, 0, 0, 0, 1, 0, 1, 0, 0, 0, 0, 0, 1, 0, 0, 0, 0]])"
            ]
          },
          "metadata": {},
          "execution_count": 7
        }
      ]
    },
    {
      "cell_type": "code",
      "source": [],
      "metadata": {
        "id": "r5gz3gU_b6mz"
      },
      "execution_count": null,
      "outputs": []
    },
    {
      "cell_type": "markdown",
      "source": [
        "**If we use max_features paramaters in the countervectorizer class we can fint the most frequent features from the sentences. This techniques we can use when we have so many words.**"
      ],
      "metadata": {
        "id": "rSTIusx_g6lF"
      }
    },
    {
      "cell_type": "markdown",
      "source": [
        "# For sentiment analysis we can use binary= true in Countervectorizer because it is very effective there."
      ],
      "metadata": {
        "id": "UcpOtcd2evW-"
      }
    },
    {
      "cell_type": "code",
      "source": [],
      "metadata": {
        "id": "inZ1Rt3ee7T8"
      },
      "execution_count": null,
      "outputs": []
    },
    {
      "cell_type": "markdown",
      "source": [
        "**Bi-grams**"
      ],
      "metadata": {
        "id": "qGcZ5rM63fVk"
      }
    },
    {
      "cell_type": "code",
      "source": [
        "# prompt: from sklearn import countervectorizer\n",
        "\n",
        "from sklearn.feature_extraction.text import CountVectorizer\n",
        "\n",
        "# Create CountVectorizer object\n",
        "vectorizer = CountVectorizer(ngram_range=(2,2))"
      ],
      "metadata": {
        "id": "yQmHSBvr3iCp"
      },
      "execution_count": 1,
      "outputs": []
    },
    {
      "cell_type": "code",
      "source": [
        "# Fit and transform the text data\n",
        "vectorized_data = vectorizer.fit_transform(df['Text'])\n",
        "\n",
        "# Print the shape of the vectorized data\n",
        "print(vectorized_data.shape)\n"
      ],
      "metadata": {
        "colab": {
          "base_uri": "https://localhost:8080/"
        },
        "id": "Un-zmXVw59AT",
        "outputId": "4e826e32-c835-4a2d-9bf9-8bca1e8ef35b"
      },
      "execution_count": 3,
      "outputs": [
        {
          "output_type": "stream",
          "name": "stdout",
          "text": [
            "(10, 35)\n"
          ]
        }
      ]
    },
    {
      "cell_type": "code",
      "source": [
        "vectorizer.vocabulary_"
      ],
      "metadata": {
        "colab": {
          "base_uri": "https://localhost:8080/"
        },
        "id": "hW8Ht-jn6INv",
        "outputId": "9acb6114-bcf8-4e20-da9c-3faa58720673"
      },
      "execution_count": 4,
      "outputs": [
        {
          "output_type": "execute_result",
          "data": {
            "text/plain": [
              "{'this is': 30,\n",
              " 'is positive': 14,\n",
              " 'positive sentence': 23,\n",
              " 'negative sentiment': 19,\n",
              " 'sentiment is': 24,\n",
              " 'is not': 13,\n",
              " 'not good': 21,\n",
              " 'the weather': 29,\n",
              " 'weather today': 33,\n",
              " 'today is': 31,\n",
              " 'is fantastic': 10,\n",
              " 'dislike the': 5,\n",
              " 'the taste': 28,\n",
              " 'taste immensely': 26,\n",
              " 'coding is': 4,\n",
              " 'is fun': 11,\n",
              " 'fun and': 8,\n",
              " 'and challenging': 0,\n",
              " 'hate waiting': 9,\n",
              " 'waiting for': 32,\n",
              " 'for buses': 7,\n",
              " 'the cat': 27,\n",
              " 'cat jumped': 3,\n",
              " 'jumped over': 15,\n",
              " 'over fences': 22,\n",
              " 'love learning': 17,\n",
              " 'learning new': 16,\n",
              " 'new things': 20,\n",
              " 'winter is': 34,\n",
              " 'is my': 12,\n",
              " 'my favorite': 18,\n",
              " 'favorite season': 6,\n",
              " 'can stand': 2,\n",
              " 'stand boring': 25,\n",
              " 'boring lectures': 1}"
            ]
          },
          "metadata": {},
          "execution_count": 4
        }
      ]
    },
    {
      "cell_type": "markdown",
      "source": [
        "# TF-IDF\n"
      ],
      "metadata": {
        "id": "JFJRuGdwE8Y2"
      }
    },
    {
      "cell_type": "code",
      "source": [
        "\n",
        "# prompt: from sklearn import countervectorizer\n",
        "\n",
        "from sklearn.feature_extraction.text import TfidfVectorizer\n",
        "\n",
        "\n",
        "tfidf = TfidfVectorizer()"
      ],
      "metadata": {
        "id": "ao1yZHS76MBx"
      },
      "execution_count": 6,
      "outputs": []
    },
    {
      "cell_type": "code",
      "source": [
        "tfidf.fit_transform(df.Text).toarray()"
      ],
      "metadata": {
        "colab": {
          "base_uri": "https://localhost:8080/"
        },
        "id": "_IvPC-0oEdDF",
        "outputId": "3b1135b3-59f8-42b7-dcb7-6cc14fceeeb3"
      },
      "execution_count": 7,
      "outputs": [
        {
          "output_type": "execute_result",
          "data": {
            "text/plain": [
              "array([[0.        , 0.        , 0.        , 0.        , 0.        ,\n",
              "        0.        , 0.        , 0.        , 0.        , 0.        ,\n",
              "        0.        , 0.        , 0.        , 0.        , 0.        ,\n",
              "        0.        , 0.32431204, 0.        , 0.        , 0.        ,\n",
              "        0.        , 0.        , 0.        , 0.        , 0.        ,\n",
              "        0.        , 0.54614458, 0.        , 0.54614458, 0.        ,\n",
              "        0.        , 0.        , 0.        , 0.        , 0.54614458,\n",
              "        0.        , 0.        , 0.        , 0.        ],\n",
              "       [0.        , 0.        , 0.        , 0.        , 0.        ,\n",
              "        0.        , 0.        , 0.        , 0.        , 0.        ,\n",
              "        0.        , 0.        , 0.        , 0.4793188 , 0.        ,\n",
              "        0.        , 0.2846295 , 0.        , 0.        , 0.        ,\n",
              "        0.        , 0.        , 0.4793188 , 0.        , 0.4793188 ,\n",
              "        0.        , 0.        , 0.        , 0.        , 0.4793188 ,\n",
              "        0.        , 0.        , 0.        , 0.        , 0.        ,\n",
              "        0.        , 0.        , 0.        , 0.        ],\n",
              "       [0.        , 0.        , 0.        , 0.        , 0.        ,\n",
              "        0.        , 0.        , 0.        , 0.50599637, 0.        ,\n",
              "        0.        , 0.        , 0.        , 0.        , 0.        ,\n",
              "        0.        , 0.3004712 , 0.        , 0.        , 0.        ,\n",
              "        0.        , 0.        , 0.        , 0.        , 0.        ,\n",
              "        0.        , 0.        , 0.        , 0.        , 0.        ,\n",
              "        0.        , 0.        , 0.37632442, 0.        , 0.        ,\n",
              "        0.50599637, 0.        , 0.50599637, 0.        ],\n",
              "       [0.        , 0.        , 0.        , 0.        , 0.        ,\n",
              "        0.        , 0.        , 0.53051081, 0.        , 0.        ,\n",
              "        0.        , 0.        , 0.        , 0.        , 0.        ,\n",
              "        0.53051081, 0.        , 0.        , 0.        , 0.        ,\n",
              "        0.        , 0.        , 0.        , 0.        , 0.        ,\n",
              "        0.        , 0.        , 0.        , 0.        , 0.        ,\n",
              "        0.        , 0.53051081, 0.39455653, 0.        , 0.        ,\n",
              "        0.        , 0.        , 0.        , 0.        ],\n",
              "       [0.4793188 , 0.        , 0.        , 0.        , 0.        ,\n",
              "        0.4793188 , 0.4793188 , 0.        , 0.        , 0.        ,\n",
              "        0.        , 0.        , 0.4793188 , 0.        , 0.        ,\n",
              "        0.        , 0.2846295 , 0.        , 0.        , 0.        ,\n",
              "        0.        , 0.        , 0.        , 0.        , 0.        ,\n",
              "        0.        , 0.        , 0.        , 0.        , 0.        ,\n",
              "        0.        , 0.        , 0.        , 0.        , 0.        ,\n",
              "        0.        , 0.        , 0.        , 0.        ],\n",
              "       [0.        , 0.        , 0.5       , 0.        , 0.        ,\n",
              "        0.        , 0.        , 0.        , 0.        , 0.        ,\n",
              "        0.        , 0.5       , 0.        , 0.        , 0.5       ,\n",
              "        0.        , 0.        , 0.        , 0.        , 0.        ,\n",
              "        0.        , 0.        , 0.        , 0.        , 0.        ,\n",
              "        0.        , 0.        , 0.        , 0.        , 0.        ,\n",
              "        0.        , 0.        , 0.        , 0.        , 0.        ,\n",
              "        0.        , 0.5       , 0.        , 0.        ],\n",
              "       [0.        , 0.        , 0.        , 0.        , 0.46864588,\n",
              "        0.        , 0.        , 0.        , 0.        , 0.        ,\n",
              "        0.46864588, 0.        , 0.        , 0.        , 0.        ,\n",
              "        0.        , 0.        , 0.46864588, 0.        , 0.        ,\n",
              "        0.        , 0.        , 0.        , 0.        , 0.        ,\n",
              "        0.46864588, 0.        , 0.        , 0.        , 0.        ,\n",
              "        0.        , 0.        , 0.34854576, 0.        , 0.        ,\n",
              "        0.        , 0.        , 0.        , 0.        ],\n",
              "       [0.        , 0.        , 0.        , 0.        , 0.        ,\n",
              "        0.        , 0.        , 0.        , 0.        , 0.        ,\n",
              "        0.        , 0.        , 0.        , 0.        , 0.        ,\n",
              "        0.        , 0.        , 0.        , 0.5       , 0.        ,\n",
              "        0.5       , 0.        , 0.        , 0.5       , 0.        ,\n",
              "        0.        , 0.        , 0.        , 0.        , 0.        ,\n",
              "        0.        , 0.        , 0.        , 0.5       , 0.        ,\n",
              "        0.        , 0.        , 0.        , 0.        ],\n",
              "       [0.        , 0.        , 0.        , 0.        , 0.        ,\n",
              "        0.        , 0.        , 0.        , 0.        , 0.4793188 ,\n",
              "        0.        , 0.        , 0.        , 0.        , 0.        ,\n",
              "        0.        , 0.2846295 , 0.        , 0.        , 0.        ,\n",
              "        0.        , 0.4793188 , 0.        , 0.        , 0.        ,\n",
              "        0.        , 0.        , 0.4793188 , 0.        , 0.        ,\n",
              "        0.        , 0.        , 0.        , 0.        , 0.        ,\n",
              "        0.        , 0.        , 0.        , 0.4793188 ],\n",
              "       [0.        , 0.5       , 0.        , 0.5       , 0.        ,\n",
              "        0.        , 0.        , 0.        , 0.        , 0.        ,\n",
              "        0.        , 0.        , 0.        , 0.        , 0.        ,\n",
              "        0.        , 0.        , 0.        , 0.        , 0.5       ,\n",
              "        0.        , 0.        , 0.        , 0.        , 0.        ,\n",
              "        0.        , 0.        , 0.        , 0.        , 0.        ,\n",
              "        0.5       , 0.        , 0.        , 0.        , 0.        ,\n",
              "        0.        , 0.        , 0.        , 0.        ]])"
            ]
          },
          "metadata": {},
          "execution_count": 7
        }
      ]
    },
    {
      "cell_type": "code",
      "source": [
        "tfidf.idf_"
      ],
      "metadata": {
        "colab": {
          "base_uri": "https://localhost:8080/"
        },
        "id": "Sm2IEbETFTEH",
        "outputId": "6c777ad5-1e2b-442f-cc57-cb7f180fb378"
      },
      "execution_count": 8,
      "outputs": [
        {
          "output_type": "execute_result",
          "data": {
            "text/plain": [
              "array([2.70474809, 2.70474809, 2.70474809, 2.70474809, 2.70474809,\n",
              "       2.70474809, 2.70474809, 2.70474809, 2.70474809, 2.70474809,\n",
              "       2.70474809, 2.70474809, 2.70474809, 2.70474809, 2.70474809,\n",
              "       2.70474809, 1.6061358 , 2.70474809, 2.70474809, 2.70474809,\n",
              "       2.70474809, 2.70474809, 2.70474809, 2.70474809, 2.70474809,\n",
              "       2.70474809, 2.70474809, 2.70474809, 2.70474809, 2.70474809,\n",
              "       2.70474809, 2.70474809, 2.01160091, 2.70474809, 2.70474809,\n",
              "       2.70474809, 2.70474809, 2.70474809, 2.70474809])"
            ]
          },
          "metadata": {},
          "execution_count": 8
        }
      ]
    },
    {
      "cell_type": "code",
      "source": [
        "tfidf.get_feature_names_out()"
      ],
      "metadata": {
        "colab": {
          "base_uri": "https://localhost:8080/"
        },
        "id": "VLvGWyAKFdgz",
        "outputId": "ec1c6186-9fb6-4812-a91a-c13524e13544"
      },
      "execution_count": 10,
      "outputs": [
        {
          "output_type": "execute_result",
          "data": {
            "text/plain": [
              "array(['and', 'boring', 'buses', 'can', 'cat', 'challenging', 'coding',\n",
              "       'dislike', 'fantastic', 'favorite', 'fences', 'for', 'fun', 'good',\n",
              "       'hate', 'immensely', 'is', 'jumped', 'learning', 'lectures',\n",
              "       'love', 'my', 'negative', 'new', 'not', 'over', 'positive',\n",
              "       'season', 'sentence', 'sentiment', 'stand', 'taste', 'the',\n",
              "       'things', 'this', 'today', 'waiting', 'weather', 'winter'],\n",
              "      dtype=object)"
            ]
          },
          "metadata": {},
          "execution_count": 10
        }
      ]
    },
    {
      "cell_type": "code",
      "source": [],
      "metadata": {
        "id": "2ZOhvnAbFlrm"
      },
      "execution_count": null,
      "outputs": []
    }
  ]
}