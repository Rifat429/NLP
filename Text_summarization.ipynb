{
  "nbformat": 4,
  "nbformat_minor": 0,
  "metadata": {
    "colab": {
      "provenance": [],
      "gpuType": "T4",
      "authorship_tag": "ABX9TyNHf7pL4OOd0tA9A36SG+hJ",
      "include_colab_link": true
    },
    "kernelspec": {
      "name": "python3",
      "display_name": "Python 3"
    },
    "language_info": {
      "name": "python"
    },
    "accelerator": "GPU"
  },
  "cells": [
    {
      "cell_type": "markdown",
      "metadata": {
        "id": "view-in-github",
        "colab_type": "text"
      },
      "source": [
        "<a href=\"https://colab.research.google.com/github/Rifat429/NLP/blob/main/Text_summarization.ipynb\" target=\"_parent\"><img src=\"https://colab.research.google.com/assets/colab-badge.svg\" alt=\"Open In Colab\"/></a>"
      ]
    },
    {
      "cell_type": "code",
      "execution_count": 41,
      "metadata": {
        "id": "mmlZKlZ4qZLl"
      },
      "outputs": [],
      "source": [
        "text='''\n",
        "When the 2011 earthquake and tsunami struck Tohoku, Japan, Chris Goldfinger was two hundred miles away, in the city of Kashiwa, at an international meeting on seismology. As the shaking started, everyone in the room began to laugh. Earthquakes are common in Japan—that one was the third of the week—and the participants were, after all, at a seismology conference. Then everyone in the room checked the time.\n",
        "\n",
        "Seismologists know that how long an earthquake lasts is a decent proxy for its magnitude. The 1989 earthquake in Loma Prieta, California, which killed sixty-three people and caused six billion dollars’ worth of damage, lasted about fifteen seconds and had a magnitude of 6.9. A thirty-second earthquake generally has a magnitude in the mid-sevens. A minute-long quake is in the high sevens, a two-minute quake has entered the eights, and a three-minute quake is in the high eights. By four minutes, an earthquake has hit magnitude 9.0.\n",
        "\n",
        "When Goldfinger looked at his watch, it was quarter to three. The conference was wrapping up for the day. He was thinking about sushi. The speaker at the lectern was wondering if he should carry on with his talk. The earthquake was not particularly strong. Then it ticked past the sixty-second mark, making it longer than the others that week. The shaking intensified. The seats in the conference room were small plastic desks with wheels. Goldfinger, who is tall and solidly built, thought, No way am I crouching under one of those for cover. At a minute and a half, everyone in the room got up and went outside.\n",
        "\n",
        "It was March. There was a chill in the air, and snow flurries, but no snow on the ground. Nor, from the feel of it, was there ground on the ground. The earth snapped and popped and rippled. It was, Goldfinger thought, like driving through rocky terrain in a vehicle with no shocks, if both the vehicle and the terrain were also on a raft in high seas. The quake passed the two-minute mark. The trees, still hung with the previous autumn’s dead leaves, were making a strange rattling sound. The flagpole atop the building he and his colleagues had just vacated was whipping through an arc of forty degrees. The building itself was base-isolated, a seismic-safety technology in which the body of a structure rests on movable bearings rather than directly on its foundation. Goldfinger lurched over to take a look. The base was lurching, too, back and forth a foot at a time, digging a trench in the yard. He thought better of it, and lurched away. His watch swept past the three-minute mark and kept going.\n",
        "\n",
        "Oh, shit, Goldfinger thought, although not in dread, at first: in amazement. For decades, seismologists had believed that Japan could not experience an earthquake stronger than magnitude 8.4. In 2005, however, at a conference in Hokudan, a Japanese geologist named Yasutaka Ikeda had argued that the nation should expect a magnitude 9.0 in the near future—with catastrophic consequences, because Japan’s famous earthquake-and-tsunami preparedness, including the height of its sea walls, was based on incorrect science. The presentation was met with polite applause and thereafter largely ignored. Now, Goldfinger realized as the shaking hit the four-minute mark, the planet was proving the Japanese Cassandra right.\n",
        "\n",
        "For a moment, that was pretty cool: a real-time revolution in earthquake science. Almost immediately, though, it became extremely uncool, because Goldfinger and every other seismologist standing outside in Kashiwa knew what was coming. One of them pulled out a cell phone and started streaming videos from the Japanese broadcasting station NHK, shot by helicopters that had flown out to sea soon after the shaking started. Thirty minutes after Goldfinger first stepped outside, he watched the tsunami roll in, in real time, on a two-inch screen.\n",
        "\n",
        "In the end, the magnitude-9.0 Tohoku earthquake and subsequent tsunami killed more than eighteen thousand people, devastated northeast Japan, triggered the meltdown at the Fukushima power plant, and cost an estimated two hundred and twenty billion dollars. The shaking earlier in the week turned out to be the foreshocks of the largest earthquake in the nation’s recorded history. But for Chris Goldfinger, a paleoseismologist at Oregon State University and one of the world’s leading experts on a little-known fault line, the main quake was itself a kind of foreshock: a preview of another earthquake still to come.\n",
        "\n",
        "Most people in the United States know just one fault line by name: the San Andreas, which runs nearly the length of California and is perpetually rumored to be on the verge of unleashing “the big one.” That rumor is misleading, no matter what the San Andreas ever does. Every fault line has an upper limit to its potency, determined by its length and width, and by how far it can slip. For the San Andreas, one of the most extensively studied and best understood fault lines in the world, that upper limit is roughly an 8.2—a powerful earthquake, but, because the Richter scale is logarithmic, only six per cent as strong as the 2011 event in Japan.\n",
        "\n",
        "“Perhaps I’ve said too much.”\n",
        "Copy link to cartoon\n",
        "Link copied\n",
        "\n",
        "Shop\n",
        "Just north of the San Andreas, however, lies another fault line. Known as the Cascadia subduction zone, it runs for seven hundred miles off the coast of the Pacific Northwest, beginning near Cape Mendocino, California, continuing along Oregon and Washington, and terminating around Vancouver Island, Canada. The “Cascadia” part of its name comes from the Cascade Range, a chain of volcanic mountains that follow the same course a hundred or so miles inland. The “subduction zone” part refers to a region of the planet where one tectonic plate is sliding underneath (subducting) another. Tectonic plates are those slabs of mantle and crust that, in their epochs-long drift, rearrange the earth’s continents and oceans. Most of the time, their movement is slow, harmless, and all but undetectable. Occasionally, at the borders where they meet, it is not.\n",
        "\n",
        "Take your hands and hold them palms down, middle fingertips touching. Your right hand represents the North American tectonic plate, which bears on its back, among other things, our entire continent, from One World Trade Center to the Space Needle, in Seattle. Your left hand represents an oceanic plate called Juan de Fuca, ninety thousand square miles in size. The place where they meet is the Cascadia subduction zone. Now slide your left hand under your right one. That is what the Juan de Fuca plate is doing: slipping steadily beneath North America. When you try it, your right hand will slide up your left arm, as if you were pushing up your sleeve. That is what North America is not doing. It is stuck, wedged tight against the surface of the other plate.\n",
        "\n",
        "Without moving your hands, curl your right knuckles up, so that they point toward the ceiling. Under pressure from Juan de Fuca, the stuck edge of North America is bulging upward and compressing eastward, at the rate of, respectively, three to four millimetres and thirty to forty millimetres a year. It can do so for quite some time, because, as continent stuff goes, it is young, made of rock that is still relatively elastic. (Rocks, like us, get stiffer as they age.) But it cannot do so indefinitely. There is a backstop—the craton, that ancient unbudgeable mass at the center of the continent—and, sooner or later, North America will rebound like a spring. If, on that occasion, only the southern part of the Cascadia subduction zone gives way—your first two fingers, say—the magnitude of the resulting quake will be somewhere between 8.0 and 8.6. That’s the big one. If the entire zone gives way at once, an event that seismologists call a full-margin rupture, the magnitude will be somewhere between 8.7 and 9.2. That’s the very big one.\n",
        "\n",
        "Flick your right fingers outward, forcefully, so that your hand flattens back down again. When the next very big earthquake hits, the northwest edge of the continent, from California to Canada and the continental shelf to the Cascades, will drop by as much as six feet and rebound thirty to a hundred feet to the west—losing, within minutes, all the elevation and compression it has gained over centuries. Some of that shift will take place beneath the ocean, displacing a colossal quantity of seawater. (Watch what your fingertips do when you flatten your hand.) The water will surge upward into a huge hill, then promptly collapse. One side will rush west, toward Japan. The other side will rush east, in a seven-hundred-mile liquid wall that will reach the Northwest coast, on average, fifteen minutes after the earthquake begins. By the time the shaking has ceased and the tsunami has receded, the region will be unrecognizable. Kenneth Murphy, who directs fema’s Region X, the division responsible for Oregon, Washington, Idaho, and Alaska, says, “Our operating assumption is that everything west of Interstate 5 will be toast.”\n",
        "\n",
        "In the Pacific Northwest, the area of impact will cover some hundred and forty thousand square miles, including Seattle, Tacoma, Portland, Eugene, Salem (the capital city of Oregon), Olympia (the capital of Washington), and some seven million people. When the next full-margin rupture happens, that region will suffer the worst natural disaster in the history of North America, outside of the 2010 Haiti earthquake, which killed upward of a hundred thousand people. By comparison, roughly three thousand people died in San Francisco’s 1906 earthquake. Almost two thousand died in Hurricane Katrina. Almost three hundred died in Hurricane Sandy. fema projects that nearly thirteen thousand people will die in the Cascadia earthquake and tsunami. Another twenty-seven thousand will be injured, and the agency expects that it will need to provide shelter for a million displaced people, and food and water for another two and a half million. “This is one time that I’m hoping all the science is wrong, and it won’t happen for another thousand years,” Murphy says.\n",
        "\n",
        "In fact, the science is robust, and one of the chief scientists behind it is Chris Goldfinger. Thanks to work done by him and his colleagues, we now know that the odds of the big Cascadia earthquake happening in the next fifty years are roughly one in three. The odds of the very big one are roughly one in ten. Even those numbers do not fully reflect the danger—or, more to the point, how unprepared the Pacific Northwest is to face it. The truly worrisome figures in this story are these: Thirty years ago, no one knew that the Cascadia subduction zone had ever produced a major earthquake. Forty-five years ago, no one even knew it existed.\n",
        "\n",
        "“I’ll do what everybody does—sell this startup just before we h'''\n"
      ]
    },
    {
      "cell_type": "code",
      "source": [
        "!pip install -U spacy"
      ],
      "metadata": {
        "colab": {
          "base_uri": "https://localhost:8080/"
        },
        "id": "1TS-Z346qweH",
        "outputId": "d9f6eca5-f394-4580-d3a1-d7c8254dcd02"
      },
      "execution_count": 2,
      "outputs": [
        {
          "output_type": "stream",
          "name": "stdout",
          "text": [
            "Requirement already satisfied: spacy in /usr/local/lib/python3.10/dist-packages (3.6.1)\n",
            "Requirement already satisfied: spacy-legacy<3.1.0,>=3.0.11 in /usr/local/lib/python3.10/dist-packages (from spacy) (3.0.12)\n",
            "Requirement already satisfied: spacy-loggers<2.0.0,>=1.0.0 in /usr/local/lib/python3.10/dist-packages (from spacy) (1.0.4)\n",
            "Requirement already satisfied: murmurhash<1.1.0,>=0.28.0 in /usr/local/lib/python3.10/dist-packages (from spacy) (1.0.9)\n",
            "Requirement already satisfied: cymem<2.1.0,>=2.0.2 in /usr/local/lib/python3.10/dist-packages (from spacy) (2.0.7)\n",
            "Requirement already satisfied: preshed<3.1.0,>=3.0.2 in /usr/local/lib/python3.10/dist-packages (from spacy) (3.0.8)\n",
            "Requirement already satisfied: thinc<8.2.0,>=8.1.8 in /usr/local/lib/python3.10/dist-packages (from spacy) (8.1.12)\n",
            "Requirement already satisfied: wasabi<1.2.0,>=0.9.1 in /usr/local/lib/python3.10/dist-packages (from spacy) (1.1.2)\n",
            "Requirement already satisfied: srsly<3.0.0,>=2.4.3 in /usr/local/lib/python3.10/dist-packages (from spacy) (2.4.7)\n",
            "Requirement already satisfied: catalogue<2.1.0,>=2.0.6 in /usr/local/lib/python3.10/dist-packages (from spacy) (2.0.9)\n",
            "Requirement already satisfied: typer<0.10.0,>=0.3.0 in /usr/local/lib/python3.10/dist-packages (from spacy) (0.9.0)\n",
            "Requirement already satisfied: pathy>=0.10.0 in /usr/local/lib/python3.10/dist-packages (from spacy) (0.10.2)\n",
            "Requirement already satisfied: smart-open<7.0.0,>=5.2.1 in /usr/local/lib/python3.10/dist-packages (from spacy) (6.4.0)\n",
            "Requirement already satisfied: tqdm<5.0.0,>=4.38.0 in /usr/local/lib/python3.10/dist-packages (from spacy) (4.66.1)\n",
            "Requirement already satisfied: numpy>=1.15.0 in /usr/local/lib/python3.10/dist-packages (from spacy) (1.23.5)\n",
            "Requirement already satisfied: requests<3.0.0,>=2.13.0 in /usr/local/lib/python3.10/dist-packages (from spacy) (2.31.0)\n",
            "Requirement already satisfied: pydantic!=1.8,!=1.8.1,<3.0.0,>=1.7.4 in /usr/local/lib/python3.10/dist-packages (from spacy) (1.10.12)\n",
            "Requirement already satisfied: jinja2 in /usr/local/lib/python3.10/dist-packages (from spacy) (3.1.2)\n",
            "Requirement already satisfied: setuptools in /usr/local/lib/python3.10/dist-packages (from spacy) (67.7.2)\n",
            "Requirement already satisfied: packaging>=20.0 in /usr/local/lib/python3.10/dist-packages (from spacy) (23.1)\n",
            "Requirement already satisfied: langcodes<4.0.0,>=3.2.0 in /usr/local/lib/python3.10/dist-packages (from spacy) (3.3.0)\n",
            "Requirement already satisfied: typing-extensions>=4.2.0 in /usr/local/lib/python3.10/dist-packages (from pydantic!=1.8,!=1.8.1,<3.0.0,>=1.7.4->spacy) (4.5.0)\n",
            "Requirement already satisfied: charset-normalizer<4,>=2 in /usr/local/lib/python3.10/dist-packages (from requests<3.0.0,>=2.13.0->spacy) (3.2.0)\n",
            "Requirement already satisfied: idna<4,>=2.5 in /usr/local/lib/python3.10/dist-packages (from requests<3.0.0,>=2.13.0->spacy) (3.4)\n",
            "Requirement already satisfied: urllib3<3,>=1.21.1 in /usr/local/lib/python3.10/dist-packages (from requests<3.0.0,>=2.13.0->spacy) (2.0.4)\n",
            "Requirement already satisfied: certifi>=2017.4.17 in /usr/local/lib/python3.10/dist-packages (from requests<3.0.0,>=2.13.0->spacy) (2023.7.22)\n",
            "Requirement already satisfied: blis<0.8.0,>=0.7.8 in /usr/local/lib/python3.10/dist-packages (from thinc<8.2.0,>=8.1.8->spacy) (0.7.10)\n",
            "Requirement already satisfied: confection<1.0.0,>=0.0.1 in /usr/local/lib/python3.10/dist-packages (from thinc<8.2.0,>=8.1.8->spacy) (0.1.2)\n",
            "Requirement already satisfied: click<9.0.0,>=7.1.1 in /usr/local/lib/python3.10/dist-packages (from typer<0.10.0,>=0.3.0->spacy) (8.1.7)\n",
            "Requirement already satisfied: MarkupSafe>=2.0 in /usr/local/lib/python3.10/dist-packages (from jinja2->spacy) (2.1.3)\n"
          ]
        }
      ]
    },
    {
      "cell_type": "code",
      "source": [
        "!pip install spacy -q\n",
        "!python -m spacy download en_core_web_sm -q"
      ],
      "metadata": {
        "colab": {
          "base_uri": "https://localhost:8080/"
        },
        "id": "kKLx_lbaq5-S",
        "outputId": "45772bcf-ac59-416b-d9b6-be65f0674ce9"
      },
      "execution_count": 14,
      "outputs": [
        {
          "output_type": "stream",
          "name": "stdout",
          "text": [
            "2023-09-24 10:21:37.361437: W tensorflow/compiler/tf2tensorrt/utils/py_utils.cc:38] TF-TRT Warning: Could not find TensorRT\n",
            "\u001b[2K     \u001b[90m━━━━━━━━━━━━━━━━━━━━━━━━━━━━━━━━━━━━━━━━\u001b[0m \u001b[32m12.8/12.8 MB\u001b[0m \u001b[31m39.0 MB/s\u001b[0m eta \u001b[36m0:00:00\u001b[0m\n",
            "\u001b[?25h\u001b[38;5;2m✔ Download and installation successful\u001b[0m\n",
            "You can now load the package via spacy.load('en_core_web_sm')\n"
          ]
        }
      ]
    },
    {
      "cell_type": "code",
      "source": [
        "import spacy\n",
        "from spacy.lang.en.stop_words import STOP_WORDS\n",
        "from string import punctuation\n",
        "import en_core_web_sm"
      ],
      "metadata": {
        "id": "icgqE6GtrE2o"
      },
      "execution_count": 15,
      "outputs": []
    },
    {
      "cell_type": "code",
      "source": [
        "stopwords=list(STOP_WORDS)\n",
        "# stopwords"
      ],
      "metadata": {
        "id": "VRB5E1vTrYhR"
      },
      "execution_count": 16,
      "outputs": []
    },
    {
      "cell_type": "code",
      "source": [
        "import en_core_web_sm\n",
        "nlp = en_core_web_sm.load()"
      ],
      "metadata": {
        "id": "HmlzrLKKr-sz"
      },
      "execution_count": 18,
      "outputs": []
    },
    {
      "cell_type": "code",
      "source": [
        "doc=nlp(text)"
      ],
      "metadata": {
        "id": "nRS_gya7sQCz"
      },
      "execution_count": 42,
      "outputs": []
    },
    {
      "cell_type": "code",
      "source": [
        "doc[0]"
      ],
      "metadata": {
        "colab": {
          "base_uri": "https://localhost:8080/"
        },
        "id": "rbtkjg2wttTf",
        "outputId": "07b0526f-c260-4dc5-d361-a68fd6232845"
      },
      "execution_count": 43,
      "outputs": [
        {
          "output_type": "execute_result",
          "data": {
            "text/plain": []
          },
          "metadata": {},
          "execution_count": 43
        }
      ]
    },
    {
      "cell_type": "code",
      "source": [
        "tokens = [token.text for token in doc]\n",
        "print(tokens)"
      ],
      "metadata": {
        "colab": {
          "base_uri": "https://localhost:8080/"
        },
        "id": "VAXKurGTtwXX",
        "outputId": "85c37765-84a1-4459-fef6-1a8c2b2dbd12"
      },
      "execution_count": 44,
      "outputs": [
        {
          "output_type": "stream",
          "name": "stdout",
          "text": [
            "['\\n', 'When', 'the', '2011', 'earthquake', 'and', 'tsunami', 'struck', 'Tohoku', ',', 'Japan', ',', 'Chris', 'Goldfinger', 'was', 'two', 'hundred', 'miles', 'away', ',', 'in', 'the', 'city', 'of', 'Kashiwa', ',', 'at', 'an', 'international', 'meeting', 'on', 'seismology', '.', 'As', 'the', 'shaking', 'started', ',', 'everyone', 'in', 'the', 'room', 'began', 'to', 'laugh', '.', 'Earthquakes', 'are', 'common', 'in', 'Japan', '—', 'that', 'one', 'was', 'the', 'third', 'of', 'the', 'week', '—', 'and', 'the', 'participants', 'were', ',', 'after', 'all', ',', 'at', 'a', 'seismology', 'conference', '.', 'Then', 'everyone', 'in', 'the', 'room', 'checked', 'the', 'time', '.', '\\n\\n', 'Seismologists', 'know', 'that', 'how', 'long', 'an', 'earthquake', 'lasts', 'is', 'a', 'decent', 'proxy', 'for', 'its', 'magnitude', '.', 'The', '1989', 'earthquake', 'in', 'Loma', 'Prieta', ',', 'California', ',', 'which', 'killed', 'sixty', '-', 'three', 'people', 'and', 'caused', 'six', 'billion', 'dollars', '’', 'worth', 'of', 'damage', ',', 'lasted', 'about', 'fifteen', 'seconds', 'and', 'had', 'a', 'magnitude', 'of', '6.9', '.', 'A', 'thirty', '-', 'second', 'earthquake', 'generally', 'has', 'a', 'magnitude', 'in', 'the', 'mid', '-', 'sevens', '.', 'A', 'minute', '-', 'long', 'quake', 'is', 'in', 'the', 'high', 'sevens', ',', 'a', 'two', '-', 'minute', 'quake', 'has', 'entered', 'the', 'eights', ',', 'and', 'a', 'three', '-', 'minute', 'quake', 'is', 'in', 'the', 'high', 'eights', '.', 'By', 'four', 'minutes', ',', 'an', 'earthquake', 'has', 'hit', 'magnitude', '9.0', '.', '\\n\\n', 'When', 'Goldfinger', 'looked', 'at', 'his', 'watch', ',', 'it', 'was', 'quarter', 'to', 'three', '.', 'The', 'conference', 'was', 'wrapping', 'up', 'for', 'the', 'day', '.', 'He', 'was', 'thinking', 'about', 'sushi', '.', 'The', 'speaker', 'at', 'the', 'lectern', 'was', 'wondering', 'if', 'he', 'should', 'carry', 'on', 'with', 'his', 'talk', '.', 'The', 'earthquake', 'was', 'not', 'particularly', 'strong', '.', 'Then', 'it', 'ticked', 'past', 'the', 'sixty', '-', 'second', 'mark', ',', 'making', 'it', 'longer', 'than', 'the', 'others', 'that', 'week', '.', 'The', 'shaking', 'intensified', '.', 'The', 'seats', 'in', 'the', 'conference', 'room', 'were', 'small', 'plastic', 'desks', 'with', 'wheels', '.', 'Goldfinger', ',', 'who', 'is', 'tall', 'and', 'solidly', 'built', ',', 'thought', ',', 'No', 'way', 'am', 'I', 'crouching', 'under', 'one', 'of', 'those', 'for', 'cover', '.', 'At', 'a', 'minute', 'and', 'a', 'half', ',', 'everyone', 'in', 'the', 'room', 'got', 'up', 'and', 'went', 'outside', '.', '\\n\\n', 'It', 'was', 'March', '.', 'There', 'was', 'a', 'chill', 'in', 'the', 'air', ',', 'and', 'snow', 'flurries', ',', 'but', 'no', 'snow', 'on', 'the', 'ground', '.', 'Nor', ',', 'from', 'the', 'feel', 'of', 'it', ',', 'was', 'there', 'ground', 'on', 'the', 'ground', '.', 'The', 'earth', 'snapped', 'and', 'popped', 'and', 'rippled', '.', 'It', 'was', ',', 'Goldfinger', 'thought', ',', 'like', 'driving', 'through', 'rocky', 'terrain', 'in', 'a', 'vehicle', 'with', 'no', 'shocks', ',', 'if', 'both', 'the', 'vehicle', 'and', 'the', 'terrain', 'were', 'also', 'on', 'a', 'raft', 'in', 'high', 'seas', '.', 'The', 'quake', 'passed', 'the', 'two', '-', 'minute', 'mark', '.', 'The', 'trees', ',', 'still', 'hung', 'with', 'the', 'previous', 'autumn', '’s', 'dead', 'leaves', ',', 'were', 'making', 'a', 'strange', 'rattling', 'sound', '.', 'The', 'flagpole', 'atop', 'the', 'building', 'he', 'and', 'his', 'colleagues', 'had', 'just', 'vacated', 'was', 'whipping', 'through', 'an', 'arc', 'of', 'forty', 'degrees', '.', 'The', 'building', 'itself', 'was', 'base', '-', 'isolated', ',', 'a', 'seismic', '-', 'safety', 'technology', 'in', 'which', 'the', 'body', 'of', 'a', 'structure', 'rests', 'on', 'movable', 'bearings', 'rather', 'than', 'directly', 'on', 'its', 'foundation', '.', 'Goldfinger', 'lurched', 'over', 'to', 'take', 'a', 'look', '.', 'The', 'base', 'was', 'lurching', ',', 'too', ',', 'back', 'and', 'forth', 'a', 'foot', 'at', 'a', 'time', ',', 'digging', 'a', 'trench', 'in', 'the', 'yard', '.', 'He', 'thought', 'better', 'of', 'it', ',', 'and', 'lurched', 'away', '.', 'His', 'watch', 'swept', 'past', 'the', 'three', '-', 'minute', 'mark', 'and', 'kept', 'going', '.', '\\n\\n', 'Oh', ',', 'shit', ',', 'Goldfinger', 'thought', ',', 'although', 'not', 'in', 'dread', ',', 'at', 'first', ':', 'in', 'amazement', '.', 'For', 'decades', ',', 'seismologists', 'had', 'believed', 'that', 'Japan', 'could', 'not', 'experience', 'an', 'earthquake', 'stronger', 'than', 'magnitude', '8.4', '.', 'In', '2005', ',', 'however', ',', 'at', 'a', 'conference', 'in', 'Hokudan', ',', 'a', 'Japanese', 'geologist', 'named', 'Yasutaka', 'Ikeda', 'had', 'argued', 'that', 'the', 'nation', 'should', 'expect', 'a', 'magnitude', '9.0', 'in', 'the', 'near', 'future', '—', 'with', 'catastrophic', 'consequences', ',', 'because', 'Japan', '’s', 'famous', 'earthquake', '-', 'and', '-', 'tsunami', 'preparedness', ',', 'including', 'the', 'height', 'of', 'its', 'sea', 'walls', ',', 'was', 'based', 'on', 'incorrect', 'science', '.', 'The', 'presentation', 'was', 'met', 'with', 'polite', 'applause', 'and', 'thereafter', 'largely', 'ignored', '.', 'Now', ',', 'Goldfinger', 'realized', 'as', 'the', 'shaking', 'hit', 'the', 'four', '-', 'minute', 'mark', ',', 'the', 'planet', 'was', 'proving', 'the', 'Japanese', 'Cassandra', 'right', '.', '\\n\\n', 'For', 'a', 'moment', ',', 'that', 'was', 'pretty', 'cool', ':', 'a', 'real', '-', 'time', 'revolution', 'in', 'earthquake', 'science', '.', 'Almost', 'immediately', ',', 'though', ',', 'it', 'became', 'extremely', 'uncool', ',', 'because', 'Goldfinger', 'and', 'every', 'other', 'seismologist', 'standing', 'outside', 'in', 'Kashiwa', 'knew', 'what', 'was', 'coming', '.', 'One', 'of', 'them', 'pulled', 'out', 'a', 'cell', 'phone', 'and', 'started', 'streaming', 'videos', 'from', 'the', 'Japanese', 'broadcasting', 'station', 'NHK', ',', 'shot', 'by', 'helicopters', 'that', 'had', 'flown', 'out', 'to', 'sea', 'soon', 'after', 'the', 'shaking', 'started', '.', 'Thirty', 'minutes', 'after', 'Goldfinger', 'first', 'stepped', 'outside', ',', 'he', 'watched', 'the', 'tsunami', 'roll', 'in', ',', 'in', 'real', 'time', ',', 'on', 'a', 'two', '-', 'inch', 'screen', '.', '\\n\\n', 'In', 'the', 'end', ',', 'the', 'magnitude-9.0', 'Tohoku', 'earthquake', 'and', 'subsequent', 'tsunami', 'killed', 'more', 'than', 'eighteen', 'thousand', 'people', ',', 'devastated', 'northeast', 'Japan', ',', 'triggered', 'the', 'meltdown', 'at', 'the', 'Fukushima', 'power', 'plant', ',', 'and', 'cost', 'an', 'estimated', 'two', 'hundred', 'and', 'twenty', 'billion', 'dollars', '.', 'The', 'shaking', 'earlier', 'in', 'the', 'week', 'turned', 'out', 'to', 'be', 'the', 'foreshocks', 'of', 'the', 'largest', 'earthquake', 'in', 'the', 'nation', '’s', 'recorded', 'history', '.', 'But', 'for', 'Chris', 'Goldfinger', ',', 'a', 'paleoseismologist', 'at', 'Oregon', 'State', 'University', 'and', 'one', 'of', 'the', 'world', '’s', 'leading', 'experts', 'on', 'a', 'little', '-', 'known', 'fault', 'line', ',', 'the', 'main', 'quake', 'was', 'itself', 'a', 'kind', 'of', 'foreshock', ':', 'a', 'preview', 'of', 'another', 'earthquake', 'still', 'to', 'come', '.', '\\n\\n', 'Most', 'people', 'in', 'the', 'United', 'States', 'know', 'just', 'one', 'fault', 'line', 'by', 'name', ':', 'the', 'San', 'Andreas', ',', 'which', 'runs', 'nearly', 'the', 'length', 'of', 'California', 'and', 'is', 'perpetually', 'rumored', 'to', 'be', 'on', 'the', 'verge', 'of', 'unleashing', '“', 'the', 'big', 'one', '.', '”', 'That', 'rumor', 'is', 'misleading', ',', 'no', 'matter', 'what', 'the', 'San', 'Andreas', 'ever', 'does', '.', 'Every', 'fault', 'line', 'has', 'an', 'upper', 'limit', 'to', 'its', 'potency', ',', 'determined', 'by', 'its', 'length', 'and', 'width', ',', 'and', 'by', 'how', 'far', 'it', 'can', 'slip', '.', 'For', 'the', 'San', 'Andreas', ',', 'one', 'of', 'the', 'most', 'extensively', 'studied', 'and', 'best', 'understood', 'fault', 'lines', 'in', 'the', 'world', ',', 'that', 'upper', 'limit', 'is', 'roughly', 'an', '8.2', '—', 'a', 'powerful', 'earthquake', ',', 'but', ',', 'because', 'the', 'Richter', 'scale', 'is', 'logarithmic', ',', 'only', 'six', 'per', 'cent', 'as', 'strong', 'as', 'the', '2011', 'event', 'in', 'Japan', '.', '\\n\\n', '“', 'Perhaps', 'I', '’ve', 'said', 'too', 'much', '.', '”', '\\n', 'Copy', 'link', 'to', 'cartoon', '\\n', 'Link', 'copied', '\\n\\n', 'Shop', '\\n', 'Just', 'north', 'of', 'the', 'San', 'Andreas', ',', 'however', ',', 'lies', 'another', 'fault', 'line', '.', 'Known', 'as', 'the', 'Cascadia', 'subduction', 'zone', ',', 'it', 'runs', 'for', 'seven', 'hundred', 'miles', 'off', 'the', 'coast', 'of', 'the', 'Pacific', 'Northwest', ',', 'beginning', 'near', 'Cape', 'Mendocino', ',', 'California', ',', 'continuing', 'along', 'Oregon', 'and', 'Washington', ',', 'and', 'terminating', 'around', 'Vancouver', 'Island', ',', 'Canada', '.', 'The', '“', 'Cascadia', '”', 'part', 'of', 'its', 'name', 'comes', 'from', 'the', 'Cascade', 'Range', ',', 'a', 'chain', 'of', 'volcanic', 'mountains', 'that', 'follow', 'the', 'same', 'course', 'a', 'hundred', 'or', 'so', 'miles', 'inland', '.', 'The', '“', 'subduction', 'zone', '”', 'part', 'refers', 'to', 'a', 'region', 'of', 'the', 'planet', 'where', 'one', 'tectonic', 'plate', 'is', 'sliding', 'underneath', '(', 'subducting', ')', 'another', '.', 'Tectonic', 'plates', 'are', 'those', 'slabs', 'of', 'mantle', 'and', 'crust', 'that', ',', 'in', 'their', 'epochs', '-', 'long', 'drift', ',', 'rearrange', 'the', 'earth', '’s', 'continents', 'and', 'oceans', '.', 'Most', 'of', 'the', 'time', ',', 'their', 'movement', 'is', 'slow', ',', 'harmless', ',', 'and', 'all', 'but', 'undetectable', '.', 'Occasionally', ',', 'at', 'the', 'borders', 'where', 'they', 'meet', ',', 'it', 'is', 'not', '.', '\\n\\n', 'Take', 'your', 'hands', 'and', 'hold', 'them', 'palms', 'down', ',', 'middle', 'fingertips', 'touching', '.', 'Your', 'right', 'hand', 'represents', 'the', 'North', 'American', 'tectonic', 'plate', ',', 'which', 'bears', 'on', 'its', 'back', ',', 'among', 'other', 'things', ',', 'our', 'entire', 'continent', ',', 'from', 'One', 'World', 'Trade', 'Center', 'to', 'the', 'Space', 'Needle', ',', 'in', 'Seattle', '.', 'Your', 'left', 'hand', 'represents', 'an', 'oceanic', 'plate', 'called', 'Juan', 'de', 'Fuca', ',', 'ninety', 'thousand', 'square', 'miles', 'in', 'size', '.', 'The', 'place', 'where', 'they', 'meet', 'is', 'the', 'Cascadia', 'subduction', 'zone', '.', 'Now', 'slide', 'your', 'left', 'hand', 'under', 'your', 'right', 'one', '.', 'That', 'is', 'what', 'the', 'Juan', 'de', 'Fuca', 'plate', 'is', 'doing', ':', 'slipping', 'steadily', 'beneath', 'North', 'America', '.', 'When', 'you', 'try', 'it', ',', 'your', 'right', 'hand', 'will', 'slide', 'up', 'your', 'left', 'arm', ',', 'as', 'if', 'you', 'were', 'pushing', 'up', 'your', 'sleeve', '.', 'That', 'is', 'what', 'North', 'America', 'is', 'not', 'doing', '.', 'It', 'is', 'stuck', ',', 'wedged', 'tight', 'against', 'the', 'surface', 'of', 'the', 'other', 'plate', '.', '\\n\\n', 'Without', 'moving', 'your', 'hands', ',', 'curl', 'your', 'right', 'knuckles', 'up', ',', 'so', 'that', 'they', 'point', 'toward', 'the', 'ceiling', '.', 'Under', 'pressure', 'from', 'Juan', 'de', 'Fuca', ',', 'the', 'stuck', 'edge', 'of', 'North', 'America', 'is', 'bulging', 'upward', 'and', 'compressing', 'eastward', ',', 'at', 'the', 'rate', 'of', ',', 'respectively', ',', 'three', 'to', 'four', 'millimetres', 'and', 'thirty', 'to', 'forty', 'millimetres', 'a', 'year', '.', 'It', 'can', 'do', 'so', 'for', 'quite', 'some', 'time', ',', 'because', ',', 'as', 'continent', 'stuff', 'goes', ',', 'it', 'is', 'young', ',', 'made', 'of', 'rock', 'that', 'is', 'still', 'relatively', 'elastic', '.', '(', 'Rocks', ',', 'like', 'us', ',', 'get', 'stiffer', 'as', 'they', 'age', '.', ')', 'But', 'it', 'can', 'not', 'do', 'so', 'indefinitely', '.', 'There', 'is', 'a', 'backstop', '—', 'the', 'craton', ',', 'that', 'ancient', 'unbudgeable', 'mass', 'at', 'the', 'center', 'of', 'the', 'continent', '—', 'and', ',', 'sooner', 'or', 'later', ',', 'North', 'America', 'will', 'rebound', 'like', 'a', 'spring', '.', 'If', ',', 'on', 'that', 'occasion', ',', 'only', 'the', 'southern', 'part', 'of', 'the', 'Cascadia', 'subduction', 'zone', 'gives', 'way', '—', 'your', 'first', 'two', 'fingers', ',', 'say', '—', 'the', 'magnitude', 'of', 'the', 'resulting', 'quake', 'will', 'be', 'somewhere', 'between', '8.0', 'and', '8.6', '.', 'That', '’s', 'the', 'big', 'one', '.', 'If', 'the', 'entire', 'zone', 'gives', 'way', 'at', 'once', ',', 'an', 'event', 'that', 'seismologists', 'call', 'a', 'full', '-', 'margin', 'rupture', ',', 'the', 'magnitude', 'will', 'be', 'somewhere', 'between', '8.7', 'and', '9.2', '.', 'That', '’s', 'the', 'very', 'big', 'one', '.', '\\n\\n', 'Flick', 'your', 'right', 'fingers', 'outward', ',', 'forcefully', ',', 'so', 'that', 'your', 'hand', 'flattens', 'back', 'down', 'again', '.', 'When', 'the', 'next', 'very', 'big', 'earthquake', 'hits', ',', 'the', 'northwest', 'edge', 'of', 'the', 'continent', ',', 'from', 'California', 'to', 'Canada', 'and', 'the', 'continental', 'shelf', 'to', 'the', 'Cascades', ',', 'will', 'drop', 'by', 'as', 'much', 'as', 'six', 'feet', 'and', 'rebound', 'thirty', 'to', 'a', 'hundred', 'feet', 'to', 'the', 'west', '—', 'losing', ',', 'within', 'minutes', ',', 'all', 'the', 'elevation', 'and', 'compression', 'it', 'has', 'gained', 'over', 'centuries', '.', 'Some', 'of', 'that', 'shift', 'will', 'take', 'place', 'beneath', 'the', 'ocean', ',', 'displacing', 'a', 'colossal', 'quantity', 'of', 'seawater', '.', '(', 'Watch', 'what', 'your', 'fingertips', 'do', 'when', 'you', 'flatten', 'your', 'hand', '.', ')', 'The', 'water', 'will', 'surge', 'upward', 'into', 'a', 'huge', 'hill', ',', 'then', 'promptly', 'collapse', '.', 'One', 'side', 'will', 'rush', 'west', ',', 'toward', 'Japan', '.', 'The', 'other', 'side', 'will', 'rush', 'east', ',', 'in', 'a', 'seven', '-', 'hundred', '-', 'mile', 'liquid', 'wall', 'that', 'will', 'reach', 'the', 'Northwest', 'coast', ',', 'on', 'average', ',', 'fifteen', 'minutes', 'after', 'the', 'earthquake', 'begins', '.', 'By', 'the', 'time', 'the', 'shaking', 'has', 'ceased', 'and', 'the', 'tsunami', 'has', 'receded', ',', 'the', 'region', 'will', 'be', 'unrecognizable', '.', 'Kenneth', 'Murphy', ',', 'who', 'directs', 'fema', '’s', 'Region', 'X', ',', 'the', 'division', 'responsible', 'for', 'Oregon', ',', 'Washington', ',', 'Idaho', ',', 'and', 'Alaska', ',', 'says', ',', '“', 'Our', 'operating', 'assumption', 'is', 'that', 'everything', 'west', 'of', 'Interstate', '5', 'will', 'be', 'toast', '.', '”', '\\n\\n', 'In', 'the', 'Pacific', 'Northwest', ',', 'the', 'area', 'of', 'impact', 'will', 'cover', 'some', 'hundred', 'and', 'forty', 'thousand', 'square', 'miles', ',', 'including', 'Seattle', ',', 'Tacoma', ',', 'Portland', ',', 'Eugene', ',', 'Salem', '(', 'the', 'capital', 'city', 'of', 'Oregon', ')', ',', 'Olympia', '(', 'the', 'capital', 'of', 'Washington', ')', ',', 'and', 'some', 'seven', 'million', 'people', '.', 'When', 'the', 'next', 'full', '-', 'margin', 'rupture', 'happens', ',', 'that', 'region', 'will', 'suffer', 'the', 'worst', 'natural', 'disaster', 'in', 'the', 'history', 'of', 'North', 'America', ',', 'outside', 'of', 'the', '2010', 'Haiti', 'earthquake', ',', 'which', 'killed', 'upward', 'of', 'a', 'hundred', 'thousand', 'people', '.', 'By', 'comparison', ',', 'roughly', 'three', 'thousand', 'people', 'died', 'in', 'San', 'Francisco', '’s', '1906', 'earthquake', '.', 'Almost', 'two', 'thousand', 'died', 'in', 'Hurricane', 'Katrina', '.', 'Almost', 'three', 'hundred', 'died', 'in', 'Hurricane', 'Sandy', '.', 'fema', 'projects', 'that', 'nearly', 'thirteen', 'thousand', 'people', 'will', 'die', 'in', 'the', 'Cascadia', 'earthquake', 'and', 'tsunami', '.', 'Another', 'twenty', '-', 'seven', 'thousand', 'will', 'be', 'injured', ',', 'and', 'the', 'agency', 'expects', 'that', 'it', 'will', 'need', 'to', 'provide', 'shelter', 'for', 'a', 'million', 'displaced', 'people', ',', 'and', 'food', 'and', 'water', 'for', 'another', 'two', 'and', 'a', 'half', 'million', '.', '“', 'This', 'is', 'one', 'time', 'that', 'I', '’m', 'hoping', 'all', 'the', 'science', 'is', 'wrong', ',', 'and', 'it', 'wo', 'n’t', 'happen', 'for', 'another', 'thousand', 'years', ',', '”', 'Murphy', 'says', '.', '\\n\\n', 'In', 'fact', ',', 'the', 'science', 'is', 'robust', ',', 'and', 'one', 'of', 'the', 'chief', 'scientists', 'behind', 'it', 'is', 'Chris', 'Goldfinger', '.', 'Thanks', 'to', 'work', 'done', 'by', 'him', 'and', 'his', 'colleagues', ',', 'we', 'now', 'know', 'that', 'the', 'odds', 'of', 'the', 'big', 'Cascadia', 'earthquake', 'happening', 'in', 'the', 'next', 'fifty', 'years', 'are', 'roughly', 'one', 'in', 'three', '.', 'The', 'odds', 'of', 'the', 'very', 'big', 'one', 'are', 'roughly', 'one', 'in', 'ten', '.', 'Even', 'those', 'numbers', 'do', 'not', 'fully', 'reflect', 'the', 'danger', '—', 'or', ',', 'more', 'to', 'the', 'point', ',', 'how', 'unprepared', 'the', 'Pacific', 'Northwest', 'is', 'to', 'face', 'it', '.', 'The', 'truly', 'worrisome', 'figures', 'in', 'this', 'story', 'are', 'these', ':', 'Thirty', 'years', 'ago', ',', 'no', 'one', 'knew', 'that', 'the', 'Cascadia', 'subduction', 'zone', 'had', 'ever', 'produced', 'a', 'major', 'earthquake', '.', 'Forty', '-', 'five', 'years', 'ago', ',', 'no', 'one', 'even', 'knew', 'it', 'existed', '.', '\\n\\n', '“', 'I', '’ll', 'do', 'what', 'everybody', 'does', '—', 'sell', 'this', 'startup', 'just', 'before', 'we', 'h']\n"
          ]
        }
      ]
    },
    {
      "cell_type": "code",
      "source": [
        "####data preprocessing..clearing punctuation and stop words''''"
      ],
      "metadata": {
        "id": "veJ3iFd7uKV0"
      },
      "execution_count": 29,
      "outputs": []
    },
    {
      "cell_type": "code",
      "source": [
        "punctuation"
      ],
      "metadata": {
        "colab": {
          "base_uri": "https://localhost:8080/",
          "height": 35
        },
        "id": "pjJJ-NW4uvop",
        "outputId": "4ff0d537-ad7e-45e5-ae2a-7ac7aafcd9d1"
      },
      "execution_count": 45,
      "outputs": [
        {
          "output_type": "execute_result",
          "data": {
            "text/plain": [
              "'!\"#$%&\\'()*+,-./:;<=>?@[\\\\]^_`{|}~\\n'"
            ],
            "application/vnd.google.colaboratory.intrinsic+json": {
              "type": "string"
            }
          },
          "metadata": {},
          "execution_count": 45
        }
      ]
    },
    {
      "cell_type": "code",
      "source": [
        "punctuation = punctuation + '\\n'"
      ],
      "metadata": {
        "id": "MksJ_465uZ0T"
      },
      "execution_count": 46,
      "outputs": []
    },
    {
      "cell_type": "code",
      "source": [
        "#### word frequencies\n",
        "word_frequencies= {}\n",
        "\n",
        "for word in doc:\n",
        "  if word.text.lower() not in stopwords:\n",
        "    if word.text.lower() not in punctuation:\n",
        "      if word.text not in word_frequencies.keys():\n",
        "        word_frequencies[word.text] =1\n",
        "      else:\n",
        "        word_frequencies[word.text] +=1\n",
        ""
      ],
      "metadata": {
        "id": "veoLHEqgux52"
      },
      "execution_count": 47,
      "outputs": []
    },
    {
      "cell_type": "code",
      "source": [
        "word_frequencies"
      ],
      "metadata": {
        "colab": {
          "base_uri": "https://localhost:8080/"
        },
        "id": "xPVfPj0ku7br",
        "outputId": "b87ce6d1-4827-4dbf-dd2f-677fd3296cd2"
      },
      "execution_count": 48,
      "outputs": [
        {
          "output_type": "execute_result",
          "data": {
            "text/plain": [
              "{'2011': 2,\n",
              " 'earthquake': 20,\n",
              " 'tsunami': 6,\n",
              " 'struck': 1,\n",
              " 'Tohoku': 2,\n",
              " 'Japan': 7,\n",
              " 'Chris': 3,\n",
              " 'Goldfinger': 11,\n",
              " 'miles': 5,\n",
              " 'away': 2,\n",
              " 'city': 2,\n",
              " 'Kashiwa': 2,\n",
              " 'international': 1,\n",
              " 'meeting': 1,\n",
              " 'seismology': 2,\n",
              " 'shaking': 6,\n",
              " 'started': 3,\n",
              " 'room': 4,\n",
              " 'began': 1,\n",
              " 'laugh': 1,\n",
              " 'Earthquakes': 1,\n",
              " 'common': 1,\n",
              " '—': 11,\n",
              " 'week': 3,\n",
              " 'participants': 1,\n",
              " 'conference': 4,\n",
              " 'checked': 1,\n",
              " 'time': 8,\n",
              " 'Seismologists': 1,\n",
              " 'know': 3,\n",
              " 'long': 3,\n",
              " 'lasts': 1,\n",
              " 'decent': 1,\n",
              " 'proxy': 1,\n",
              " 'magnitude': 8,\n",
              " '1989': 1,\n",
              " 'Loma': 1,\n",
              " 'Prieta': 1,\n",
              " 'California': 4,\n",
              " 'killed': 3,\n",
              " 'people': 8,\n",
              " 'caused': 1,\n",
              " 'billion': 2,\n",
              " 'dollars': 2,\n",
              " '’': 1,\n",
              " 'worth': 1,\n",
              " 'damage': 1,\n",
              " 'lasted': 1,\n",
              " 'seconds': 1,\n",
              " '6.9': 1,\n",
              " 'thirty': 3,\n",
              " 'second': 2,\n",
              " 'generally': 1,\n",
              " 'mid': 1,\n",
              " 'sevens': 2,\n",
              " 'minute': 7,\n",
              " 'quake': 6,\n",
              " 'high': 3,\n",
              " 'entered': 1,\n",
              " 'eights': 2,\n",
              " 'minutes': 4,\n",
              " 'hit': 2,\n",
              " '9.0': 2,\n",
              " 'looked': 1,\n",
              " 'watch': 2,\n",
              " 'quarter': 1,\n",
              " 'wrapping': 1,\n",
              " 'day': 1,\n",
              " 'thinking': 1,\n",
              " 'sushi': 1,\n",
              " 'speaker': 1,\n",
              " 'lectern': 1,\n",
              " 'wondering': 1,\n",
              " 'carry': 1,\n",
              " 'talk': 1,\n",
              " 'particularly': 1,\n",
              " 'strong': 2,\n",
              " 'ticked': 1,\n",
              " 'past': 2,\n",
              " 'mark': 4,\n",
              " 'making': 2,\n",
              " 'longer': 1,\n",
              " 'intensified': 1,\n",
              " 'seats': 1,\n",
              " 'small': 1,\n",
              " 'plastic': 1,\n",
              " 'desks': 1,\n",
              " 'wheels': 1,\n",
              " 'tall': 1,\n",
              " 'solidly': 1,\n",
              " 'built': 1,\n",
              " 'thought': 4,\n",
              " 'way': 3,\n",
              " 'crouching': 1,\n",
              " 'cover': 2,\n",
              " 'half': 2,\n",
              " 'got': 1,\n",
              " 'went': 1,\n",
              " 'outside': 4,\n",
              " 'March': 1,\n",
              " 'chill': 1,\n",
              " 'air': 1,\n",
              " 'snow': 2,\n",
              " 'flurries': 1,\n",
              " 'ground': 3,\n",
              " 'feel': 1,\n",
              " 'earth': 2,\n",
              " 'snapped': 1,\n",
              " 'popped': 1,\n",
              " 'rippled': 1,\n",
              " 'like': 3,\n",
              " 'driving': 1,\n",
              " 'rocky': 1,\n",
              " 'terrain': 2,\n",
              " 'vehicle': 2,\n",
              " 'shocks': 1,\n",
              " 'raft': 1,\n",
              " 'seas': 1,\n",
              " 'passed': 1,\n",
              " 'trees': 1,\n",
              " 'hung': 1,\n",
              " 'previous': 1,\n",
              " 'autumn': 1,\n",
              " 'dead': 1,\n",
              " 'leaves': 1,\n",
              " 'strange': 1,\n",
              " 'rattling': 1,\n",
              " 'sound': 1,\n",
              " 'flagpole': 1,\n",
              " 'atop': 1,\n",
              " 'building': 2,\n",
              " 'colleagues': 2,\n",
              " 'vacated': 1,\n",
              " 'whipping': 1,\n",
              " 'arc': 1,\n",
              " 'degrees': 1,\n",
              " 'base': 2,\n",
              " 'isolated': 1,\n",
              " 'seismic': 1,\n",
              " 'safety': 1,\n",
              " 'technology': 1,\n",
              " 'body': 1,\n",
              " 'structure': 1,\n",
              " 'rests': 1,\n",
              " 'movable': 1,\n",
              " 'bearings': 1,\n",
              " 'directly': 1,\n",
              " 'foundation': 1,\n",
              " 'lurched': 2,\n",
              " 'look': 1,\n",
              " 'lurching': 1,\n",
              " 'forth': 1,\n",
              " 'foot': 1,\n",
              " 'digging': 1,\n",
              " 'trench': 1,\n",
              " 'yard': 1,\n",
              " 'better': 1,\n",
              " 'swept': 1,\n",
              " 'kept': 1,\n",
              " 'going': 1,\n",
              " 'Oh': 1,\n",
              " 'shit': 1,\n",
              " 'dread': 1,\n",
              " 'amazement': 1,\n",
              " 'decades': 1,\n",
              " 'seismologists': 2,\n",
              " 'believed': 1,\n",
              " 'experience': 1,\n",
              " 'stronger': 1,\n",
              " '8.4': 1,\n",
              " '2005': 1,\n",
              " 'Hokudan': 1,\n",
              " 'Japanese': 3,\n",
              " 'geologist': 1,\n",
              " 'named': 1,\n",
              " 'Yasutaka': 1,\n",
              " 'Ikeda': 1,\n",
              " 'argued': 1,\n",
              " 'nation': 2,\n",
              " 'expect': 1,\n",
              " 'near': 2,\n",
              " 'future': 1,\n",
              " 'catastrophic': 1,\n",
              " 'consequences': 1,\n",
              " 'famous': 1,\n",
              " 'preparedness': 1,\n",
              " 'including': 2,\n",
              " 'height': 1,\n",
              " 'sea': 2,\n",
              " 'walls': 1,\n",
              " 'based': 1,\n",
              " 'incorrect': 1,\n",
              " 'science': 4,\n",
              " 'presentation': 1,\n",
              " 'met': 1,\n",
              " 'polite': 1,\n",
              " 'applause': 1,\n",
              " 'largely': 1,\n",
              " 'ignored': 1,\n",
              " 'realized': 1,\n",
              " 'planet': 2,\n",
              " 'proving': 1,\n",
              " 'Cassandra': 1,\n",
              " 'right': 6,\n",
              " 'moment': 1,\n",
              " 'pretty': 1,\n",
              " 'cool': 1,\n",
              " 'real': 2,\n",
              " 'revolution': 1,\n",
              " 'immediately': 1,\n",
              " 'extremely': 1,\n",
              " 'uncool': 1,\n",
              " 'seismologist': 1,\n",
              " 'standing': 1,\n",
              " 'knew': 3,\n",
              " 'coming': 1,\n",
              " 'pulled': 1,\n",
              " 'cell': 1,\n",
              " 'phone': 1,\n",
              " 'streaming': 1,\n",
              " 'videos': 1,\n",
              " 'broadcasting': 1,\n",
              " 'station': 1,\n",
              " 'NHK': 1,\n",
              " 'shot': 1,\n",
              " 'helicopters': 1,\n",
              " 'flown': 1,\n",
              " 'soon': 1,\n",
              " 'Thirty': 2,\n",
              " 'stepped': 1,\n",
              " 'watched': 1,\n",
              " 'roll': 1,\n",
              " 'inch': 1,\n",
              " 'screen': 1,\n",
              " 'end': 1,\n",
              " 'magnitude-9.0': 1,\n",
              " 'subsequent': 1,\n",
              " 'eighteen': 1,\n",
              " 'thousand': 9,\n",
              " 'devastated': 1,\n",
              " 'northeast': 1,\n",
              " 'triggered': 1,\n",
              " 'meltdown': 1,\n",
              " 'Fukushima': 1,\n",
              " 'power': 1,\n",
              " 'plant': 1,\n",
              " 'cost': 1,\n",
              " 'estimated': 1,\n",
              " 'earlier': 1,\n",
              " 'turned': 1,\n",
              " 'foreshocks': 1,\n",
              " 'largest': 1,\n",
              " 'recorded': 1,\n",
              " 'history': 2,\n",
              " 'paleoseismologist': 1,\n",
              " 'Oregon': 4,\n",
              " 'State': 1,\n",
              " 'University': 1,\n",
              " 'world': 2,\n",
              " 'leading': 1,\n",
              " 'experts': 1,\n",
              " 'little': 1,\n",
              " 'known': 1,\n",
              " 'fault': 5,\n",
              " 'line': 4,\n",
              " 'main': 1,\n",
              " 'kind': 1,\n",
              " 'foreshock': 1,\n",
              " 'preview': 1,\n",
              " 'come': 1,\n",
              " 'United': 1,\n",
              " 'States': 1,\n",
              " 'San': 5,\n",
              " 'Andreas': 4,\n",
              " 'runs': 2,\n",
              " 'nearly': 2,\n",
              " 'length': 2,\n",
              " 'perpetually': 1,\n",
              " 'rumored': 1,\n",
              " 'verge': 1,\n",
              " 'unleashing': 1,\n",
              " '“': 7,\n",
              " 'big': 6,\n",
              " '”': 6,\n",
              " 'rumor': 1,\n",
              " 'misleading': 1,\n",
              " 'matter': 1,\n",
              " 'upper': 2,\n",
              " 'limit': 2,\n",
              " 'potency': 1,\n",
              " 'determined': 1,\n",
              " 'width': 1,\n",
              " 'far': 1,\n",
              " 'slip': 1,\n",
              " 'extensively': 1,\n",
              " 'studied': 1,\n",
              " 'best': 1,\n",
              " 'understood': 1,\n",
              " 'lines': 1,\n",
              " 'roughly': 4,\n",
              " '8.2': 1,\n",
              " 'powerful': 1,\n",
              " 'Richter': 1,\n",
              " 'scale': 1,\n",
              " 'logarithmic': 1,\n",
              " 'cent': 1,\n",
              " 'event': 2,\n",
              " 'said': 1,\n",
              " 'Copy': 1,\n",
              " 'link': 1,\n",
              " 'cartoon': 1,\n",
              " 'Link': 1,\n",
              " 'copied': 1,\n",
              " 'Shop': 1,\n",
              " 'north': 1,\n",
              " 'lies': 1,\n",
              " 'Known': 1,\n",
              " 'Cascadia': 7,\n",
              " 'subduction': 5,\n",
              " 'zone': 6,\n",
              " 'seven': 4,\n",
              " 'coast': 2,\n",
              " 'Pacific': 3,\n",
              " 'Northwest': 4,\n",
              " 'beginning': 1,\n",
              " 'Cape': 1,\n",
              " 'Mendocino': 1,\n",
              " 'continuing': 1,\n",
              " 'Washington': 3,\n",
              " 'terminating': 1,\n",
              " 'Vancouver': 1,\n",
              " 'Island': 1,\n",
              " 'Canada': 2,\n",
              " 'comes': 1,\n",
              " 'Cascade': 1,\n",
              " 'Range': 1,\n",
              " 'chain': 1,\n",
              " 'volcanic': 1,\n",
              " 'mountains': 1,\n",
              " 'follow': 1,\n",
              " 'course': 1,\n",
              " 'inland': 1,\n",
              " 'refers': 1,\n",
              " 'region': 3,\n",
              " 'tectonic': 2,\n",
              " 'plate': 5,\n",
              " 'sliding': 1,\n",
              " 'underneath': 1,\n",
              " 'subducting': 1,\n",
              " 'Tectonic': 1,\n",
              " 'plates': 1,\n",
              " 'slabs': 1,\n",
              " 'mantle': 1,\n",
              " 'crust': 1,\n",
              " 'epochs': 1,\n",
              " 'drift': 1,\n",
              " 'rearrange': 1,\n",
              " 'continents': 1,\n",
              " 'oceans': 1,\n",
              " 'movement': 1,\n",
              " 'slow': 1,\n",
              " 'harmless': 1,\n",
              " 'undetectable': 1,\n",
              " 'Occasionally': 1,\n",
              " 'borders': 1,\n",
              " 'meet': 2,\n",
              " 'hands': 2,\n",
              " 'hold': 1,\n",
              " 'palms': 1,\n",
              " 'middle': 1,\n",
              " 'fingertips': 2,\n",
              " 'touching': 1,\n",
              " 'hand': 6,\n",
              " 'represents': 2,\n",
              " 'North': 6,\n",
              " 'American': 1,\n",
              " 'bears': 1,\n",
              " 'things': 1,\n",
              " 'entire': 2,\n",
              " 'continent': 4,\n",
              " 'World': 1,\n",
              " 'Trade': 1,\n",
              " 'Center': 1,\n",
              " 'Space': 1,\n",
              " 'Needle': 1,\n",
              " 'Seattle': 2,\n",
              " 'left': 3,\n",
              " 'oceanic': 1,\n",
              " 'called': 1,\n",
              " 'Juan': 3,\n",
              " 'de': 3,\n",
              " 'Fuca': 3,\n",
              " 'ninety': 1,\n",
              " 'square': 2,\n",
              " 'size': 1,\n",
              " 'place': 2,\n",
              " 'slide': 2,\n",
              " 'slipping': 1,\n",
              " 'steadily': 1,\n",
              " 'beneath': 2,\n",
              " 'America': 5,\n",
              " 'try': 1,\n",
              " 'arm': 1,\n",
              " 'pushing': 1,\n",
              " 'sleeve': 1,\n",
              " 'stuck': 2,\n",
              " 'wedged': 1,\n",
              " 'tight': 1,\n",
              " 'surface': 1,\n",
              " 'moving': 1,\n",
              " 'curl': 1,\n",
              " 'knuckles': 1,\n",
              " 'point': 2,\n",
              " 'ceiling': 1,\n",
              " 'pressure': 1,\n",
              " 'edge': 2,\n",
              " 'bulging': 1,\n",
              " 'upward': 3,\n",
              " 'compressing': 1,\n",
              " 'eastward': 1,\n",
              " 'rate': 1,\n",
              " 'respectively': 1,\n",
              " 'millimetres': 2,\n",
              " 'year': 1,\n",
              " 'stuff': 1,\n",
              " 'goes': 1,\n",
              " 'young': 1,\n",
              " 'rock': 1,\n",
              " 'relatively': 1,\n",
              " 'elastic': 1,\n",
              " 'Rocks': 1,\n",
              " 'stiffer': 1,\n",
              " 'age': 1,\n",
              " 'indefinitely': 1,\n",
              " 'backstop': 1,\n",
              " 'craton': 1,\n",
              " 'ancient': 1,\n",
              " 'unbudgeable': 1,\n",
              " 'mass': 1,\n",
              " 'center': 1,\n",
              " 'sooner': 1,\n",
              " 'later': 1,\n",
              " 'rebound': 2,\n",
              " 'spring': 1,\n",
              " 'occasion': 1,\n",
              " 'southern': 1,\n",
              " 'gives': 2,\n",
              " 'fingers': 2,\n",
              " 'resulting': 1,\n",
              " '8.0': 1,\n",
              " '8.6': 1,\n",
              " 'margin': 2,\n",
              " 'rupture': 2,\n",
              " '8.7': 1,\n",
              " '9.2': 1,\n",
              " 'Flick': 1,\n",
              " 'outward': 1,\n",
              " 'forcefully': 1,\n",
              " 'flattens': 1,\n",
              " 'hits': 1,\n",
              " 'northwest': 1,\n",
              " 'continental': 1,\n",
              " 'shelf': 1,\n",
              " 'Cascades': 1,\n",
              " 'drop': 1,\n",
              " 'feet': 2,\n",
              " 'west': 3,\n",
              " 'losing': 1,\n",
              " 'elevation': 1,\n",
              " 'compression': 1,\n",
              " 'gained': 1,\n",
              " 'centuries': 1,\n",
              " 'shift': 1,\n",
              " 'ocean': 1,\n",
              " 'displacing': 1,\n",
              " 'colossal': 1,\n",
              " 'quantity': 1,\n",
              " 'seawater': 1,\n",
              " 'Watch': 1,\n",
              " 'flatten': 1,\n",
              " 'water': 2,\n",
              " 'surge': 1,\n",
              " 'huge': 1,\n",
              " 'hill': 1,\n",
              " 'promptly': 1,\n",
              " 'collapse': 1,\n",
              " 'rush': 2,\n",
              " 'east': 1,\n",
              " 'mile': 1,\n",
              " 'liquid': 1,\n",
              " 'wall': 1,\n",
              " 'reach': 1,\n",
              " 'average': 1,\n",
              " 'begins': 1,\n",
              " 'ceased': 1,\n",
              " 'receded': 1,\n",
              " 'unrecognizable': 1,\n",
              " 'Kenneth': 1,\n",
              " 'Murphy': 2,\n",
              " 'directs': 1,\n",
              " 'fema': 2,\n",
              " 'Region': 1,\n",
              " 'X': 1,\n",
              " 'division': 1,\n",
              " 'responsible': 1,\n",
              " 'Idaho': 1,\n",
              " 'Alaska': 1,\n",
              " 'says': 2,\n",
              " 'operating': 1,\n",
              " 'assumption': 1,\n",
              " 'Interstate': 1,\n",
              " '5': 1,\n",
              " 'toast': 1,\n",
              " 'area': 1,\n",
              " 'impact': 1,\n",
              " 'Tacoma': 1,\n",
              " 'Portland': 1,\n",
              " 'Eugene': 1,\n",
              " 'Salem': 1,\n",
              " 'capital': 2,\n",
              " 'Olympia': 1,\n",
              " 'million': 3,\n",
              " 'happens': 1,\n",
              " 'suffer': 1,\n",
              " 'worst': 1,\n",
              " 'natural': 1,\n",
              " 'disaster': 1,\n",
              " '2010': 1,\n",
              " 'Haiti': 1,\n",
              " 'comparison': 1,\n",
              " 'died': 3,\n",
              " 'Francisco': 1,\n",
              " '1906': 1,\n",
              " 'Hurricane': 2,\n",
              " 'Katrina': 1,\n",
              " 'Sandy': 1,\n",
              " 'projects': 1,\n",
              " 'thirteen': 1,\n",
              " 'die': 1,\n",
              " 'injured': 1,\n",
              " 'agency': 1,\n",
              " 'expects': 1,\n",
              " 'need': 1,\n",
              " 'provide': 1,\n",
              " 'shelter': 1,\n",
              " 'displaced': 1,\n",
              " 'food': 1,\n",
              " 'hoping': 1,\n",
              " 'wrong': 1,\n",
              " 'wo': 1,\n",
              " 'happen': 1,\n",
              " 'years': 4,\n",
              " 'fact': 1,\n",
              " 'robust': 1,\n",
              " 'chief': 1,\n",
              " 'scientists': 1,\n",
              " 'Thanks': 1,\n",
              " 'work': 1,\n",
              " 'odds': 2,\n",
              " 'happening': 1,\n",
              " 'numbers': 1,\n",
              " 'fully': 1,\n",
              " 'reflect': 1,\n",
              " 'danger': 1,\n",
              " 'unprepared': 1,\n",
              " 'face': 1,\n",
              " 'truly': 1,\n",
              " 'worrisome': 1,\n",
              " 'figures': 1,\n",
              " 'story': 1,\n",
              " 'ago': 2,\n",
              " 'produced': 1,\n",
              " 'major': 1,\n",
              " 'existed': 1,\n",
              " 'everybody': 1,\n",
              " 'sell': 1,\n",
              " 'startup': 1,\n",
              " 'h': 1}"
            ]
          },
          "metadata": {},
          "execution_count": 48
        }
      ]
    },
    {
      "cell_type": "code",
      "source": [
        "max_frequency= max(word_frequencies.values())"
      ],
      "metadata": {
        "id": "L0E8cSEzv_3D"
      },
      "execution_count": 49,
      "outputs": []
    },
    {
      "cell_type": "code",
      "source": [
        "max_frequency"
      ],
      "metadata": {
        "colab": {
          "base_uri": "https://localhost:8080/"
        },
        "id": "1sjFp3SnwO5a",
        "outputId": "675a11c2-a1d2-46bf-f725-810ef7c9a25f"
      },
      "execution_count": 50,
      "outputs": [
        {
          "output_type": "execute_result",
          "data": {
            "text/plain": [
              "20"
            ]
          },
          "metadata": {},
          "execution_count": 50
        }
      ]
    },
    {
      "cell_type": "code",
      "source": [
        "##############probability distribution##########\n",
        "for word in word_frequencies.keys():\n",
        "  word_frequencies[word]= word_frequencies[word]/max_frequency"
      ],
      "metadata": {
        "id": "YFpY3ReFwPzC"
      },
      "execution_count": 51,
      "outputs": []
    },
    {
      "cell_type": "code",
      "source": [
        "print(word_frequencies)"
      ],
      "metadata": {
        "colab": {
          "base_uri": "https://localhost:8080/"
        },
        "id": "C-UpVSyrxotK",
        "outputId": "b76045ce-9062-42cf-8ad4-45a6e4dee485"
      },
      "execution_count": 53,
      "outputs": [
        {
          "output_type": "stream",
          "name": "stdout",
          "text": [
            "{'2011': 0.1, 'earthquake': 1.0, 'tsunami': 0.3, 'struck': 0.05, 'Tohoku': 0.1, 'Japan': 0.35, 'Chris': 0.15, 'Goldfinger': 0.55, 'miles': 0.25, 'away': 0.1, 'city': 0.1, 'Kashiwa': 0.1, 'international': 0.05, 'meeting': 0.05, 'seismology': 0.1, 'shaking': 0.3, 'started': 0.15, 'room': 0.2, 'began': 0.05, 'laugh': 0.05, 'Earthquakes': 0.05, 'common': 0.05, '—': 0.55, 'week': 0.15, 'participants': 0.05, 'conference': 0.2, 'checked': 0.05, 'time': 0.4, 'Seismologists': 0.05, 'know': 0.15, 'long': 0.15, 'lasts': 0.05, 'decent': 0.05, 'proxy': 0.05, 'magnitude': 0.4, '1989': 0.05, 'Loma': 0.05, 'Prieta': 0.05, 'California': 0.2, 'killed': 0.15, 'people': 0.4, 'caused': 0.05, 'billion': 0.1, 'dollars': 0.1, '’': 0.05, 'worth': 0.05, 'damage': 0.05, 'lasted': 0.05, 'seconds': 0.05, '6.9': 0.05, 'thirty': 0.15, 'second': 0.1, 'generally': 0.05, 'mid': 0.05, 'sevens': 0.1, 'minute': 0.35, 'quake': 0.3, 'high': 0.15, 'entered': 0.05, 'eights': 0.1, 'minutes': 0.2, 'hit': 0.1, '9.0': 0.1, 'looked': 0.05, 'watch': 0.1, 'quarter': 0.05, 'wrapping': 0.05, 'day': 0.05, 'thinking': 0.05, 'sushi': 0.05, 'speaker': 0.05, 'lectern': 0.05, 'wondering': 0.05, 'carry': 0.05, 'talk': 0.05, 'particularly': 0.05, 'strong': 0.1, 'ticked': 0.05, 'past': 0.1, 'mark': 0.2, 'making': 0.1, 'longer': 0.05, 'intensified': 0.05, 'seats': 0.05, 'small': 0.05, 'plastic': 0.05, 'desks': 0.05, 'wheels': 0.05, 'tall': 0.05, 'solidly': 0.05, 'built': 0.05, 'thought': 0.2, 'way': 0.15, 'crouching': 0.05, 'cover': 0.1, 'half': 0.1, 'got': 0.05, 'went': 0.05, 'outside': 0.2, 'March': 0.05, 'chill': 0.05, 'air': 0.05, 'snow': 0.1, 'flurries': 0.05, 'ground': 0.15, 'feel': 0.05, 'earth': 0.1, 'snapped': 0.05, 'popped': 0.05, 'rippled': 0.05, 'like': 0.15, 'driving': 0.05, 'rocky': 0.05, 'terrain': 0.1, 'vehicle': 0.1, 'shocks': 0.05, 'raft': 0.05, 'seas': 0.05, 'passed': 0.05, 'trees': 0.05, 'hung': 0.05, 'previous': 0.05, 'autumn': 0.05, 'dead': 0.05, 'leaves': 0.05, 'strange': 0.05, 'rattling': 0.05, 'sound': 0.05, 'flagpole': 0.05, 'atop': 0.05, 'building': 0.1, 'colleagues': 0.1, 'vacated': 0.05, 'whipping': 0.05, 'arc': 0.05, 'degrees': 0.05, 'base': 0.1, 'isolated': 0.05, 'seismic': 0.05, 'safety': 0.05, 'technology': 0.05, 'body': 0.05, 'structure': 0.05, 'rests': 0.05, 'movable': 0.05, 'bearings': 0.05, 'directly': 0.05, 'foundation': 0.05, 'lurched': 0.1, 'look': 0.05, 'lurching': 0.05, 'forth': 0.05, 'foot': 0.05, 'digging': 0.05, 'trench': 0.05, 'yard': 0.05, 'better': 0.05, 'swept': 0.05, 'kept': 0.05, 'going': 0.05, 'Oh': 0.05, 'shit': 0.05, 'dread': 0.05, 'amazement': 0.05, 'decades': 0.05, 'seismologists': 0.1, 'believed': 0.05, 'experience': 0.05, 'stronger': 0.05, '8.4': 0.05, '2005': 0.05, 'Hokudan': 0.05, 'Japanese': 0.15, 'geologist': 0.05, 'named': 0.05, 'Yasutaka': 0.05, 'Ikeda': 0.05, 'argued': 0.05, 'nation': 0.1, 'expect': 0.05, 'near': 0.1, 'future': 0.05, 'catastrophic': 0.05, 'consequences': 0.05, 'famous': 0.05, 'preparedness': 0.05, 'including': 0.1, 'height': 0.05, 'sea': 0.1, 'walls': 0.05, 'based': 0.05, 'incorrect': 0.05, 'science': 0.2, 'presentation': 0.05, 'met': 0.05, 'polite': 0.05, 'applause': 0.05, 'largely': 0.05, 'ignored': 0.05, 'realized': 0.05, 'planet': 0.1, 'proving': 0.05, 'Cassandra': 0.05, 'right': 0.3, 'moment': 0.05, 'pretty': 0.05, 'cool': 0.05, 'real': 0.1, 'revolution': 0.05, 'immediately': 0.05, 'extremely': 0.05, 'uncool': 0.05, 'seismologist': 0.05, 'standing': 0.05, 'knew': 0.15, 'coming': 0.05, 'pulled': 0.05, 'cell': 0.05, 'phone': 0.05, 'streaming': 0.05, 'videos': 0.05, 'broadcasting': 0.05, 'station': 0.05, 'NHK': 0.05, 'shot': 0.05, 'helicopters': 0.05, 'flown': 0.05, 'soon': 0.05, 'Thirty': 0.1, 'stepped': 0.05, 'watched': 0.05, 'roll': 0.05, 'inch': 0.05, 'screen': 0.05, 'end': 0.05, 'magnitude-9.0': 0.05, 'subsequent': 0.05, 'eighteen': 0.05, 'thousand': 0.45, 'devastated': 0.05, 'northeast': 0.05, 'triggered': 0.05, 'meltdown': 0.05, 'Fukushima': 0.05, 'power': 0.05, 'plant': 0.05, 'cost': 0.05, 'estimated': 0.05, 'earlier': 0.05, 'turned': 0.05, 'foreshocks': 0.05, 'largest': 0.05, 'recorded': 0.05, 'history': 0.1, 'paleoseismologist': 0.05, 'Oregon': 0.2, 'State': 0.05, 'University': 0.05, 'world': 0.1, 'leading': 0.05, 'experts': 0.05, 'little': 0.05, 'known': 0.05, 'fault': 0.25, 'line': 0.2, 'main': 0.05, 'kind': 0.05, 'foreshock': 0.05, 'preview': 0.05, 'come': 0.05, 'United': 0.05, 'States': 0.05, 'San': 0.25, 'Andreas': 0.2, 'runs': 0.1, 'nearly': 0.1, 'length': 0.1, 'perpetually': 0.05, 'rumored': 0.05, 'verge': 0.05, 'unleashing': 0.05, '“': 0.35, 'big': 0.3, '”': 0.3, 'rumor': 0.05, 'misleading': 0.05, 'matter': 0.05, 'upper': 0.1, 'limit': 0.1, 'potency': 0.05, 'determined': 0.05, 'width': 0.05, 'far': 0.05, 'slip': 0.05, 'extensively': 0.05, 'studied': 0.05, 'best': 0.05, 'understood': 0.05, 'lines': 0.05, 'roughly': 0.2, '8.2': 0.05, 'powerful': 0.05, 'Richter': 0.05, 'scale': 0.05, 'logarithmic': 0.05, 'cent': 0.05, 'event': 0.1, 'said': 0.05, 'Copy': 0.05, 'link': 0.05, 'cartoon': 0.05, 'Link': 0.05, 'copied': 0.05, 'Shop': 0.05, 'north': 0.05, 'lies': 0.05, 'Known': 0.05, 'Cascadia': 0.35, 'subduction': 0.25, 'zone': 0.3, 'seven': 0.2, 'coast': 0.1, 'Pacific': 0.15, 'Northwest': 0.2, 'beginning': 0.05, 'Cape': 0.05, 'Mendocino': 0.05, 'continuing': 0.05, 'Washington': 0.15, 'terminating': 0.05, 'Vancouver': 0.05, 'Island': 0.05, 'Canada': 0.1, 'comes': 0.05, 'Cascade': 0.05, 'Range': 0.05, 'chain': 0.05, 'volcanic': 0.05, 'mountains': 0.05, 'follow': 0.05, 'course': 0.05, 'inland': 0.05, 'refers': 0.05, 'region': 0.15, 'tectonic': 0.1, 'plate': 0.25, 'sliding': 0.05, 'underneath': 0.05, 'subducting': 0.05, 'Tectonic': 0.05, 'plates': 0.05, 'slabs': 0.05, 'mantle': 0.05, 'crust': 0.05, 'epochs': 0.05, 'drift': 0.05, 'rearrange': 0.05, 'continents': 0.05, 'oceans': 0.05, 'movement': 0.05, 'slow': 0.05, 'harmless': 0.05, 'undetectable': 0.05, 'Occasionally': 0.05, 'borders': 0.05, 'meet': 0.1, 'hands': 0.1, 'hold': 0.05, 'palms': 0.05, 'middle': 0.05, 'fingertips': 0.1, 'touching': 0.05, 'hand': 0.3, 'represents': 0.1, 'North': 0.3, 'American': 0.05, 'bears': 0.05, 'things': 0.05, 'entire': 0.1, 'continent': 0.2, 'World': 0.05, 'Trade': 0.05, 'Center': 0.05, 'Space': 0.05, 'Needle': 0.05, 'Seattle': 0.1, 'left': 0.15, 'oceanic': 0.05, 'called': 0.05, 'Juan': 0.15, 'de': 0.15, 'Fuca': 0.15, 'ninety': 0.05, 'square': 0.1, 'size': 0.05, 'place': 0.1, 'slide': 0.1, 'slipping': 0.05, 'steadily': 0.05, 'beneath': 0.1, 'America': 0.25, 'try': 0.05, 'arm': 0.05, 'pushing': 0.05, 'sleeve': 0.05, 'stuck': 0.1, 'wedged': 0.05, 'tight': 0.05, 'surface': 0.05, 'moving': 0.05, 'curl': 0.05, 'knuckles': 0.05, 'point': 0.1, 'ceiling': 0.05, 'pressure': 0.05, 'edge': 0.1, 'bulging': 0.05, 'upward': 0.15, 'compressing': 0.05, 'eastward': 0.05, 'rate': 0.05, 'respectively': 0.05, 'millimetres': 0.1, 'year': 0.05, 'stuff': 0.05, 'goes': 0.05, 'young': 0.05, 'rock': 0.05, 'relatively': 0.05, 'elastic': 0.05, 'Rocks': 0.05, 'stiffer': 0.05, 'age': 0.05, 'indefinitely': 0.05, 'backstop': 0.05, 'craton': 0.05, 'ancient': 0.05, 'unbudgeable': 0.05, 'mass': 0.05, 'center': 0.05, 'sooner': 0.05, 'later': 0.05, 'rebound': 0.1, 'spring': 0.05, 'occasion': 0.05, 'southern': 0.05, 'gives': 0.1, 'fingers': 0.1, 'resulting': 0.05, '8.0': 0.05, '8.6': 0.05, 'margin': 0.1, 'rupture': 0.1, '8.7': 0.05, '9.2': 0.05, 'Flick': 0.05, 'outward': 0.05, 'forcefully': 0.05, 'flattens': 0.05, 'hits': 0.05, 'northwest': 0.05, 'continental': 0.05, 'shelf': 0.05, 'Cascades': 0.05, 'drop': 0.05, 'feet': 0.1, 'west': 0.15, 'losing': 0.05, 'elevation': 0.05, 'compression': 0.05, 'gained': 0.05, 'centuries': 0.05, 'shift': 0.05, 'ocean': 0.05, 'displacing': 0.05, 'colossal': 0.05, 'quantity': 0.05, 'seawater': 0.05, 'Watch': 0.05, 'flatten': 0.05, 'water': 0.1, 'surge': 0.05, 'huge': 0.05, 'hill': 0.05, 'promptly': 0.05, 'collapse': 0.05, 'rush': 0.1, 'east': 0.05, 'mile': 0.05, 'liquid': 0.05, 'wall': 0.05, 'reach': 0.05, 'average': 0.05, 'begins': 0.05, 'ceased': 0.05, 'receded': 0.05, 'unrecognizable': 0.05, 'Kenneth': 0.05, 'Murphy': 0.1, 'directs': 0.05, 'fema': 0.1, 'Region': 0.05, 'X': 0.05, 'division': 0.05, 'responsible': 0.05, 'Idaho': 0.05, 'Alaska': 0.05, 'says': 0.1, 'operating': 0.05, 'assumption': 0.05, 'Interstate': 0.05, '5': 0.05, 'toast': 0.05, 'area': 0.05, 'impact': 0.05, 'Tacoma': 0.05, 'Portland': 0.05, 'Eugene': 0.05, 'Salem': 0.05, 'capital': 0.1, 'Olympia': 0.05, 'million': 0.15, 'happens': 0.05, 'suffer': 0.05, 'worst': 0.05, 'natural': 0.05, 'disaster': 0.05, '2010': 0.05, 'Haiti': 0.05, 'comparison': 0.05, 'died': 0.15, 'Francisco': 0.05, '1906': 0.05, 'Hurricane': 0.1, 'Katrina': 0.05, 'Sandy': 0.05, 'projects': 0.05, 'thirteen': 0.05, 'die': 0.05, 'injured': 0.05, 'agency': 0.05, 'expects': 0.05, 'need': 0.05, 'provide': 0.05, 'shelter': 0.05, 'displaced': 0.05, 'food': 0.05, 'hoping': 0.05, 'wrong': 0.05, 'wo': 0.05, 'happen': 0.05, 'years': 0.2, 'fact': 0.05, 'robust': 0.05, 'chief': 0.05, 'scientists': 0.05, 'Thanks': 0.05, 'work': 0.05, 'odds': 0.1, 'happening': 0.05, 'numbers': 0.05, 'fully': 0.05, 'reflect': 0.05, 'danger': 0.05, 'unprepared': 0.05, 'face': 0.05, 'truly': 0.05, 'worrisome': 0.05, 'figures': 0.05, 'story': 0.05, 'ago': 0.1, 'produced': 0.05, 'major': 0.05, 'existed': 0.05, 'everybody': 0.05, 'sell': 0.05, 'startup': 0.05, 'h': 0.05}\n"
          ]
        }
      ]
    },
    {
      "cell_type": "code",
      "source": [
        "sentence_tokens= [sent for sent in doc.sents]\n",
        "print(sentence_tokens)"
      ],
      "metadata": {
        "colab": {
          "base_uri": "https://localhost:8080/"
        },
        "id": "H83VCbpJxrmM",
        "outputId": "c3b5a4d8-9619-460d-864d-105798e61c06"
      },
      "execution_count": 54,
      "outputs": [
        {
          "output_type": "stream",
          "name": "stdout",
          "text": [
            "[\n",
            "When the 2011 earthquake and tsunami struck Tohoku, Japan, Chris Goldfinger was two hundred miles away, in the city of Kashiwa, at an international meeting on seismology., As the shaking started, everyone in the room began to laugh., Earthquakes are common in Japan—that one was the third of the week—and the participants were, after all, at a seismology conference., Then everyone in the room checked the time.\n",
            "\n",
            ", Seismologists know that how long an earthquake lasts is a decent proxy for its magnitude., The 1989 earthquake in Loma Prieta, California, which killed sixty-three people and caused six billion dollars’ worth of damage, lasted about fifteen seconds and had a magnitude of 6.9., A thirty-second earthquake generally has a magnitude in the mid-sevens., A minute-long quake is in the high sevens, a two-minute quake has entered the eights, and a three-minute quake is in the high eights., By four minutes, an earthquake has hit magnitude 9.0.\n",
            "\n",
            ", When Goldfinger looked at his watch, it was quarter to three., The conference was wrapping up for the day., He was thinking about sushi., The speaker at the lectern was wondering if he should carry on with his talk., The earthquake was not particularly strong., Then it ticked past the sixty-second mark, making it longer than the others that week., The shaking intensified., The seats in the conference room were small plastic desks with wheels., Goldfinger, who is tall and solidly built, thought, No way am I crouching under one of those for cover., At a minute and a half, everyone in the room got up and went outside.\n",
            "\n",
            ", It was March., There was a chill in the air, and snow flurries, but no snow on the ground., Nor, from the feel of it, was there ground on the ground., The earth snapped and popped and rippled., It was, Goldfinger thought, like driving through rocky terrain in a vehicle with no shocks, if both the vehicle and the terrain were also on a raft in high seas., The quake passed the two-minute mark., The trees, still hung with the previous autumn’s dead leaves, were making a strange rattling sound., The flagpole atop the building he and his colleagues had just vacated was whipping through an arc of forty degrees., The building itself was base-isolated, a seismic-safety technology in which the body of a structure rests on movable bearings rather than directly on its foundation., Goldfinger lurched over to take a look., The base was lurching, too, back and forth a foot at a time, digging a trench in the yard., He thought better of it, and lurched away., His watch swept past the three-minute mark and kept going.\n",
            "\n",
            ", Oh, shit, Goldfinger thought, although not in dread, at first: in amazement., For decades, seismologists had believed that Japan could not experience an earthquake stronger than magnitude 8.4., In 2005, however, at a conference in Hokudan, a Japanese geologist named Yasutaka Ikeda had argued that the nation should expect a magnitude 9.0 in the near future—with catastrophic consequences, because Japan’s famous earthquake-and-tsunami preparedness, including the height of its sea walls, was based on incorrect science., The presentation was met with polite applause and thereafter largely ignored., Now, Goldfinger realized as the shaking hit the four-minute mark, the planet was proving the Japanese Cassandra right.\n",
            "\n",
            ", For a moment, that was pretty cool: a real-time revolution in earthquake science., Almost immediately, though, it became extremely uncool, because Goldfinger and every other seismologist standing outside in Kashiwa knew what was coming., One of them pulled out a cell phone and started streaming videos from the Japanese broadcasting station NHK, shot by helicopters that had flown out to sea soon after the shaking started., Thirty minutes after Goldfinger first stepped outside, he watched the tsunami roll in, in real time, on a two-inch screen.\n",
            "\n",
            ", In the end, the magnitude-9.0 Tohoku earthquake and subsequent tsunami killed more than eighteen thousand people, devastated northeast Japan, triggered the meltdown at the Fukushima power plant, and cost an estimated two hundred and twenty billion dollars., The shaking earlier in the week turned out to be the foreshocks of the largest earthquake in the nation’s recorded history., But for Chris Goldfinger, a paleoseismologist at Oregon State University and one of the world’s leading experts on a little-known fault line, the main quake was itself a kind of foreshock: a preview of another earthquake still to come.\n",
            "\n",
            ", Most people in the United States know just one fault line by name: the San Andreas, which runs nearly the length of California and is perpetually rumored to be on the verge of unleashing “the big one.”, That rumor is misleading, no matter what the San Andreas ever does., Every fault line has an upper limit to its potency, determined by its length and width, and by how far it can slip., For the San Andreas, one of the most extensively studied and best understood fault lines in the world, that upper limit is roughly an 8.2—a powerful earthquake, but, because the Richter scale is logarithmic, only six per cent as strong as the 2011 event in Japan.\n",
            "\n",
            ", “Perhaps I’ve said too much.”\n",
            ", Copy link to cartoon\n",
            "Link copied\n",
            "\n",
            "Shop\n",
            "Just north of the San Andreas, however, lies another fault line., Known as the Cascadia subduction zone, it runs for seven hundred miles off the coast of the Pacific Northwest, beginning near Cape Mendocino, California, continuing along Oregon and Washington, and terminating around Vancouver Island, Canada., The “Cascadia” part of its name comes from the Cascade Range, a chain of volcanic mountains that follow the same course a hundred or so miles inland., The “subduction zone” part refers to a region of the planet where one tectonic plate is sliding underneath (subducting) another., Tectonic plates are those slabs of mantle and crust that, in their epochs-long drift, rearrange the earth’s continents and oceans., Most of the time, their movement is slow, harmless, and all but undetectable., Occasionally, at the borders where they meet, it is not.\n",
            "\n",
            ", Take your hands and hold them palms down, middle fingertips touching., Your right hand represents the North American tectonic plate, which bears on its back, among other things, our entire continent, from One World Trade Center to the Space Needle, in Seattle., Your left hand represents an oceanic plate called Juan de Fuca, ninety thousand square miles in size., The place where they meet is the Cascadia subduction zone., Now slide your left hand under your right one., That is what the Juan de Fuca plate is doing: slipping steadily beneath North America., When you try it, your right hand will slide up your left arm, as if you were pushing up your sleeve., That is what North America is not doing., It is stuck, wedged tight against the surface of the other plate.\n",
            "\n",
            ", Without moving your hands, curl your right knuckles up, so that they point toward the ceiling., Under pressure from Juan de Fuca, the stuck edge of North America is bulging upward and compressing eastward, at the rate of, respectively, three to four millimetres and thirty to forty millimetres a year., It can do so for quite some time, because, as continent stuff goes, it is young, made of rock that is still relatively elastic., (Rocks, like us, get stiffer as they age.), But it cannot do so indefinitely., There is a backstop—the craton, that ancient unbudgeable mass at the center of the continent—and, sooner or later, North America will rebound like a spring., If, on that occasion, only the southern part of the Cascadia subduction zone gives way—your first two fingers, say—the magnitude of the resulting quake will be somewhere between 8.0 and 8.6., That’s the big one., If the entire zone gives way at once, an event that seismologists call a full-margin rupture, the magnitude will be somewhere between 8.7 and 9.2., That’s the very big one.\n",
            "\n",
            ", Flick your right fingers outward, forcefully, so that your hand flattens back down again., When the next very big earthquake hits, the northwest edge of the continent, from California to Canada and the continental shelf to the Cascades, will drop by as much as six feet and rebound thirty to a hundred feet to the west—losing, within minutes, all the elevation and compression it has gained over centuries., Some of that shift will take place beneath the ocean, displacing a colossal quantity of seawater., (Watch what your fingertips do when you flatten your hand.), The water will surge upward into a huge hill, then promptly collapse., One side will rush west, toward Japan., The other side will rush east, in a seven-hundred-mile liquid wall that will reach the Northwest coast, on average, fifteen minutes after the earthquake begins., By the time the shaking has ceased and the tsunami has receded, the region will be unrecognizable., Kenneth Murphy, who directs fema’s Region X, the division responsible for Oregon, Washington, Idaho, and Alaska, says, “Our operating assumption is that everything west of Interstate 5 will be toast.”\n",
            "\n",
            ", In the Pacific Northwest, the area of impact will cover some hundred and forty thousand square miles, including Seattle, Tacoma, Portland, Eugene, Salem (the capital city of Oregon), Olympia (the capital of Washington), and some seven million people., When the next full-margin rupture happens, that region will suffer the worst natural disaster in the history of North America, outside of the 2010 Haiti earthquake, which killed upward of a hundred thousand people., By comparison, roughly three thousand people died in San Francisco’s 1906 earthquake., Almost two thousand died in Hurricane Katrina., Almost three hundred died in Hurricane Sandy., fema projects that nearly thirteen thousand people will die in the Cascadia earthquake and tsunami., Another twenty-seven thousand will be injured, and the agency expects that it will need to provide shelter for a million displaced people, and food and water for another two and a half million., “This is one time that I’m hoping all the science is wrong, and it won’t happen for another thousand years,” Murphy says.\n",
            "\n",
            ", In fact, the science is robust, and one of the chief scientists behind it is Chris Goldfinger., Thanks to work done by him and his colleagues, we now know that the odds of the big Cascadia earthquake happening in the next fifty years are roughly one in three., The odds of the very big one are roughly one in ten., Even those numbers do not fully reflect the danger—or, more to the point, how unprepared the Pacific Northwest is to face it., The truly worrisome figures in this story are these: Thirty years ago, no one knew that the Cascadia subduction zone had ever produced a major earthquake., Forty-five years ago, no one even knew it existed.\n",
            "\n",
            ", “I’ll do what everybody does—sell this startup just before we h]\n"
          ]
        }
      ]
    },
    {
      "cell_type": "code",
      "source": [
        "####### sentence score ######\n",
        "sentence_scores={}\n",
        "\n",
        "for sent in sentence_tokens:\n",
        "  for word in sent:\n",
        "    if word.text.lower() in word_frequencies.keys():\n",
        "      if sent not in sentence_scores.keys():\n",
        "        sentence_scores[sent] = word_frequencies[word.text.lower()]\n",
        "      else:\n",
        "        sentence_scores[sent] += word_frequencies[word.text.lower()]\n",
        "\n"
      ],
      "metadata": {
        "id": "dMCbdGmizrQo"
      },
      "execution_count": 56,
      "outputs": []
    },
    {
      "cell_type": "code",
      "source": [
        "sentence_scores"
      ],
      "metadata": {
        "colab": {
          "base_uri": "https://localhost:8080/"
        },
        "id": "P-_j2XIo1qmx",
        "outputId": "a44ddea6-6f9d-43dc-e5f6-b8765d17ce43"
      },
      "execution_count": 58,
      "outputs": [
        {
          "output_type": "execute_result",
          "data": {
            "text/plain": [
              "{\n",
              " When the 2011 earthquake and tsunami struck Tohoku, Japan, Chris Goldfinger was two hundred miles away, in the city of Kashiwa, at an international meeting on seismology.: 2.1000000000000005,\n",
              " As the shaking started, everyone in the room began to laugh.: 0.75,\n",
              " Earthquakes are common in Japan—that one was the third of the week—and the participants were, after all, at a seismology conference.: 1.6500000000000004,\n",
              " Then everyone in the room checked the time.\n",
              " : 0.65,\n",
              " Seismologists know that how long an earthquake lasts is a decent proxy for its magnitude.: 1.9500000000000002,\n",
              " The 1989 earthquake in Loma Prieta, California, which killed sixty-three people and caused six billion dollars’ worth of damage, lasted about fifteen seconds and had a magnitude of 6.9.: 2.55,\n",
              " A thirty-second earthquake generally has a magnitude in the mid-sevens.: 1.8500000000000003,\n",
              " A minute-long quake is in the high sevens, a two-minute quake has entered the eights, and a three-minute quake is in the high eights.: 2.75,\n",
              " By four minutes, an earthquake has hit magnitude 9.0.\n",
              " : 1.8000000000000003,\n",
              " When Goldfinger looked at his watch, it was quarter to three.: 0.2,\n",
              " The conference was wrapping up for the day.: 0.3,\n",
              " He was thinking about sushi.: 0.1,\n",
              " The speaker at the lectern was wondering if he should carry on with his talk.: 0.25,\n",
              " The earthquake was not particularly strong.: 1.1500000000000001,\n",
              " Then it ticked past the sixty-second mark, making it longer than the others that week.: 0.7500000000000001,\n",
              " The shaking intensified.: 0.35,\n",
              " The seats in the conference room were small plastic desks with wheels.: 0.6500000000000001,\n",
              " Goldfinger, who is tall and solidly built, thought, No way am I crouching under one of those for cover.: 0.65,\n",
              " At a minute and a half, everyone in the room got up and went outside.\n",
              " : 0.95,\n",
              " There was a chill in the air, and snow flurries, but no snow on the ground.: 0.5,\n",
              " Nor, from the feel of it, was there ground on the ground.: 0.35,\n",
              " The earth snapped and popped and rippled.: 0.25,\n",
              " It was, Goldfinger thought, like driving through rocky terrain in a vehicle with no shocks, if both the vehicle and the terrain were also on a raft in high seas.: 1.15,\n",
              " The quake passed the two-minute mark.: 0.8999999999999999,\n",
              " The trees, still hung with the previous autumn’s dead leaves, were making a strange rattling sound.: 0.55,\n",
              " The flagpole atop the building he and his colleagues had just vacated was whipping through an arc of forty degrees.: 0.5,\n",
              " The building itself was base-isolated, a seismic-safety technology in which the body of a structure rests on movable bearings rather than directly on its foundation.: 0.7500000000000001,\n",
              " Goldfinger lurched over to take a look.: 0.15000000000000002,\n",
              " The base was lurching, too, back and forth a foot at a time, digging a trench in the yard.: 0.8000000000000002,\n",
              " He thought better of it, and lurched away.: 0.44999999999999996,\n",
              " His watch swept past the three-minute mark and kept going.\n",
              " : 0.9000000000000001,\n",
              " Oh, shit, Goldfinger thought, although not in dread, at first: in amazement.: 0.35,\n",
              " For decades, seismologists had believed that Japan could not experience an earthquake stronger than magnitude 8.4.: 1.7500000000000002,\n",
              " In 2005, however, at a conference in Hokudan, a Japanese geologist named Yasutaka Ikeda had argued that the nation should expect a magnitude 9.0 in the near future—with catastrophic consequences, because Japan’s famous earthquake-and-tsunami preparedness, including the height of its sea walls, was based on incorrect science.: 3.8499999999999996,\n",
              " The presentation was met with polite applause and thereafter largely ignored.: 0.3,\n",
              " Now, Goldfinger realized as the shaking hit the four-minute mark, the planet was proving the Japanese Cassandra right.\n",
              " : 1.4500000000000002,\n",
              " For a moment, that was pretty cool: a real-time revolution in earthquake science.: 1.9000000000000001,\n",
              " Almost immediately, though, it became extremely uncool, because Goldfinger and every other seismologist standing outside in Kashiwa knew what was coming.: 0.65,\n",
              " One of them pulled out a cell phone and started streaming videos from the Japanese broadcasting station NHK, shot by helicopters that had flown out to sea soon after the shaking started.: 1.25,\n",
              " Thirty minutes after Goldfinger first stepped outside, he watched the tsunami roll in, in real time, on a two-inch screen.\n",
              " : 1.6,\n",
              " In the end, the magnitude-9.0 Tohoku earthquake and subsequent tsunami killed more than eighteen thousand people, devastated northeast Japan, triggered the meltdown at the Fukushima power plant, and cost an estimated two hundred and twenty billion dollars.: 3.0999999999999988,\n",
              " The shaking earlier in the week turned out to be the foreshocks of the largest earthquake in the nation’s recorded history.: 1.9000000000000004,\n",
              " But for Chris Goldfinger, a paleoseismologist at Oregon State University and one of the world’s leading experts on a little-known fault line, the main quake was itself a kind of foreshock: a preview of another earthquake still to come.\n",
              " : 2.35,\n",
              " Most people in the United States know just one fault line by name: the San Andreas, which runs nearly the length of California and is perpetually rumored to be on the verge of unleashing “the big one.”: 2.45,\n",
              " That rumor is misleading, no matter what the San Andreas ever does.: 0.15000000000000002,\n",
              " Every fault line has an upper limit to its potency, determined by its length and width, and by how far it can slip.: 1.0000000000000002,\n",
              " For the San Andreas, one of the most extensively studied and best understood fault lines in the world, that upper limit is roughly an 8.2—a powerful earthquake, but, because the Richter scale is logarithmic, only six per cent as strong as the 2011 event in Japan.\n",
              " : 3.1,\n",
              " “Perhaps I’ve said too much.”: 0.7,\n",
              " Copy link to cartoon\n",
              " Link copied\n",
              " \n",
              " Shop\n",
              " Just north of the San Andreas, however, lies another fault line.: 0.75,\n",
              " Known as the Cascadia subduction zone, it runs for seven hundred miles off the coast of the Pacific Northwest, beginning near Cape Mendocino, California, continuing along Oregon and Washington, and terminating around Vancouver Island, Canada.: 1.5500000000000003,\n",
              " The “Cascadia” part of its name comes from the Cascade Range, a chain of volcanic mountains that follow the same course a hundred or so miles inland.: 1.2500000000000002,\n",
              " The “subduction zone” part refers to a region of the planet where one tectonic plate is sliding underneath (subducting) another.: 2.0,\n",
              " Tectonic plates are those slabs of mantle and crust that, in their epochs-long drift, rearrange the earth’s continents and oceans.: 0.8000000000000002,\n",
              " Most of the time, their movement is slow, harmless, and all but undetectable.: 0.6000000000000001,\n",
              " Occasionally, at the borders where they meet, it is not.\n",
              " : 0.15000000000000002,\n",
              " Take your hands and hold them palms down, middle fingertips touching.: 0.39999999999999997,\n",
              " Your right hand represents the North American tectonic plate, which bears on its back, among other things, our entire continent, from One World Trade Center to the Space Needle, in Seattle.: 1.6500000000000004,\n",
              " Your left hand represents an oceanic plate called Juan de Fuca, ninety thousand square miles in size.: 1.9500000000000002,\n",
              " The place where they meet is the Cascadia subduction zone.: 0.75,\n",
              " Now slide your left hand under your right one.: 0.8500000000000001,\n",
              " That is what the Juan de Fuca plate is doing: slipping steadily beneath North America.: 0.65,\n",
              " When you try it, your right hand will slide up your left arm, as if you were pushing up your sleeve.: 1.05,\n",
              " That is what North America is not doing.: 0.05,\n",
              " It is stuck, wedged tight against the surface of the other plate.\n",
              " : 0.5,\n",
              " Without moving your hands, curl your right knuckles up, so that they point toward the ceiling.: 0.7000000000000001,\n",
              " Under pressure from Juan de Fuca, the stuck edge of North America is bulging upward and compressing eastward, at the rate of, respectively, three to four millimetres and thirty to forty millimetres a year.: 1.2500000000000002,\n",
              " It can do so for quite some time, because, as continent stuff goes, it is young, made of rock that is still relatively elastic.: 0.9000000000000004,\n",
              " (Rocks, like us, get stiffer as they age.): 0.25,\n",
              " But it cannot do so indefinitely.: 0.05,\n",
              " There is a backstop—the craton, that ancient unbudgeable mass at the center of the continent—and, sooner or later, North America will rebound like a spring.: 2.0500000000000003,\n",
              " If, on that occasion, only the southern part of the Cascadia subduction zone gives way—your first two fingers, say—the magnitude of the resulting quake will be somewhere between 8.0 and 8.6.: 2.9499999999999993,\n",
              " That’s the big one.: 0.3,\n",
              " If the entire zone gives way at once, an event that seismologists call a full-margin rupture, the magnitude will be somewhere between 8.7 and 9.2.: 1.5500000000000003,\n",
              " That’s the very big one.\n",
              " : 0.3,\n",
              " Flick your right fingers outward, forcefully, so that your hand flattens back down again.: 0.8500000000000001,\n",
              " When the next very big earthquake hits, the northwest edge of the continent, from California to Canada and the continental shelf to the Cascades, will drop by as much as six feet and rebound thirty to a hundred feet to the west—losing, within minutes, all the elevation and compression it has gained over centuries.: 3.4499999999999993,\n",
              " Some of that shift will take place beneath the ocean, displacing a colossal quantity of seawater.: 0.49999999999999994,\n",
              " (Watch what your fingertips do when you flatten your hand.): 0.55,\n",
              " The water will surge upward into a huge hill, then promptly collapse.: 0.5,\n",
              " One side will rush west, toward Japan.: 0.25,\n",
              " The other side will rush east, in a seven-hundred-mile liquid wall that will reach the Northwest coast, on average, fifteen minutes after the earthquake begins.: 2.0,\n",
              " By the time the shaking has ceased and the tsunami has receded, the region will be unrecognizable.: 1.3,\n",
              " Kenneth Murphy, who directs fema’s Region X, the division responsible for Oregon, Washington, Idaho, and Alaska, says, “Our operating assumption is that everything west of Interstate 5 will be toast.”\n",
              " : 1.5000000000000002,\n",
              " In the Pacific Northwest, the area of impact will cover some hundred and forty thousand square miles, including Seattle, Tacoma, Portland, Eugene, Salem (the capital city of Oregon), Olympia (the capital of Washington), and some seven million people.: 2.2,\n",
              " When the next full-margin rupture happens, that region will suffer the worst natural disaster in the history of North America, outside of the 2010 Haiti earthquake, which killed upward of a hundred thousand people.: 3.15,\n",
              " By comparison, roughly three thousand people died in San Francisco’s 1906 earthquake.: 2.3,\n",
              " Almost two thousand died in Hurricane Katrina.: 0.6,\n",
              " Almost three hundred died in Hurricane Sandy.: 0.15,\n",
              " fema projects that nearly thirteen thousand people will die in the Cascadia earthquake and tsunami.: 2.5,\n",
              " Another twenty-seven thousand will be injured, and the agency expects that it will need to provide shelter for a million displaced people, and food and water for another two and a half million.: 1.9500000000000004,\n",
              " “This is one time that I’m hoping all the science is wrong, and it won’t happen for another thousand years,” Murphy says.\n",
              " : 2.2,\n",
              " In fact, the science is robust, and one of the chief scientists behind it is Chris Goldfinger.: 0.39999999999999997,\n",
              " Thanks to work done by him and his colleagues, we now know that the odds of the big Cascadia earthquake happening in the next fifty years are roughly one in three.: 2.15,\n",
              " The odds of the very big one are roughly one in ten.: 0.6000000000000001,\n",
              " Even those numbers do not fully reflect the danger—or, more to the point, how unprepared the Pacific Northwest is to face it.: 1.0,\n",
              " The truly worrisome figures in this story are these: Thirty years ago, no one knew that the Cascadia subduction zone had ever produced a major earthquake.: 2.45,\n",
              " Forty-five years ago, no one even knew it existed.\n",
              " : 0.5000000000000001,\n",
              " “I’ll do what everybody does—sell this startup just before we h: 1.1}"
            ]
          },
          "metadata": {},
          "execution_count": 58
        }
      ]
    },
    {
      "cell_type": "code",
      "source": [
        "##### 30% sentence with maximum scores\n",
        "\n",
        "from heapq import nlargest\n",
        "\n",
        "select_length= int(len(sentence_tokens)*0.3)"
      ],
      "metadata": {
        "id": "DPoNm0dn1r3b"
      },
      "execution_count": 60,
      "outputs": []
    },
    {
      "cell_type": "code",
      "source": [
        "select_length"
      ],
      "metadata": {
        "colab": {
          "base_uri": "https://localhost:8080/"
        },
        "id": "7seIAx1x2SDt",
        "outputId": "a4adae1e-9fcf-4f4e-a098-05e5dc7f71f6"
      },
      "execution_count": 61,
      "outputs": [
        {
          "output_type": "execute_result",
          "data": {
            "text/plain": [
              "29"
            ]
          },
          "metadata": {},
          "execution_count": 61
        }
      ]
    },
    {
      "cell_type": "code",
      "source": [
        "summary= nlargest(select_length,sentence_scores, key= sentence_scores.get)"
      ],
      "metadata": {
        "id": "SBJiVcqp2ZSQ"
      },
      "execution_count": 64,
      "outputs": []
    },
    {
      "cell_type": "code",
      "source": [
        "summary"
      ],
      "metadata": {
        "colab": {
          "base_uri": "https://localhost:8080/"
        },
        "id": "PZnrxwYl2xSz",
        "outputId": "0192fd8c-e712-4f66-af0b-e8457fddc620"
      },
      "execution_count": 65,
      "outputs": [
        {
          "output_type": "execute_result",
          "data": {
            "text/plain": [
              "[In 2005, however, at a conference in Hokudan, a Japanese geologist named Yasutaka Ikeda had argued that the nation should expect a magnitude 9.0 in the near future—with catastrophic consequences, because Japan’s famous earthquake-and-tsunami preparedness, including the height of its sea walls, was based on incorrect science.,\n",
              " When the next very big earthquake hits, the northwest edge of the continent, from California to Canada and the continental shelf to the Cascades, will drop by as much as six feet and rebound thirty to a hundred feet to the west—losing, within minutes, all the elevation and compression it has gained over centuries.,\n",
              " When the next full-margin rupture happens, that region will suffer the worst natural disaster in the history of North America, outside of the 2010 Haiti earthquake, which killed upward of a hundred thousand people.,\n",
              " For the San Andreas, one of the most extensively studied and best understood fault lines in the world, that upper limit is roughly an 8.2—a powerful earthquake, but, because the Richter scale is logarithmic, only six per cent as strong as the 2011 event in Japan.\n",
              " ,\n",
              " In the end, the magnitude-9.0 Tohoku earthquake and subsequent tsunami killed more than eighteen thousand people, devastated northeast Japan, triggered the meltdown at the Fukushima power plant, and cost an estimated two hundred and twenty billion dollars.,\n",
              " If, on that occasion, only the southern part of the Cascadia subduction zone gives way—your first two fingers, say—the magnitude of the resulting quake will be somewhere between 8.0 and 8.6.,\n",
              " A minute-long quake is in the high sevens, a two-minute quake has entered the eights, and a three-minute quake is in the high eights.,\n",
              " The 1989 earthquake in Loma Prieta, California, which killed sixty-three people and caused six billion dollars’ worth of damage, lasted about fifteen seconds and had a magnitude of 6.9.,\n",
              " fema projects that nearly thirteen thousand people will die in the Cascadia earthquake and tsunami.,\n",
              " Most people in the United States know just one fault line by name: the San Andreas, which runs nearly the length of California and is perpetually rumored to be on the verge of unleashing “the big one.”,\n",
              " The truly worrisome figures in this story are these: Thirty years ago, no one knew that the Cascadia subduction zone had ever produced a major earthquake.,\n",
              " But for Chris Goldfinger, a paleoseismologist at Oregon State University and one of the world’s leading experts on a little-known fault line, the main quake was itself a kind of foreshock: a preview of another earthquake still to come.\n",
              " ,\n",
              " By comparison, roughly three thousand people died in San Francisco’s 1906 earthquake.,\n",
              " In the Pacific Northwest, the area of impact will cover some hundred and forty thousand square miles, including Seattle, Tacoma, Portland, Eugene, Salem (the capital city of Oregon), Olympia (the capital of Washington), and some seven million people.,\n",
              " “This is one time that I’m hoping all the science is wrong, and it won’t happen for another thousand years,” Murphy says.\n",
              " ,\n",
              " Thanks to work done by him and his colleagues, we now know that the odds of the big Cascadia earthquake happening in the next fifty years are roughly one in three.,\n",
              " \n",
              " When the 2011 earthquake and tsunami struck Tohoku, Japan, Chris Goldfinger was two hundred miles away, in the city of Kashiwa, at an international meeting on seismology.,\n",
              " There is a backstop—the craton, that ancient unbudgeable mass at the center of the continent—and, sooner or later, North America will rebound like a spring.,\n",
              " The “subduction zone” part refers to a region of the planet where one tectonic plate is sliding underneath (subducting) another.,\n",
              " The other side will rush east, in a seven-hundred-mile liquid wall that will reach the Northwest coast, on average, fifteen minutes after the earthquake begins.,\n",
              " Another twenty-seven thousand will be injured, and the agency expects that it will need to provide shelter for a million displaced people, and food and water for another two and a half million.,\n",
              " Seismologists know that how long an earthquake lasts is a decent proxy for its magnitude.,\n",
              " Your left hand represents an oceanic plate called Juan de Fuca, ninety thousand square miles in size.,\n",
              " The shaking earlier in the week turned out to be the foreshocks of the largest earthquake in the nation’s recorded history.,\n",
              " For a moment, that was pretty cool: a real-time revolution in earthquake science.,\n",
              " A thirty-second earthquake generally has a magnitude in the mid-sevens.,\n",
              " By four minutes, an earthquake has hit magnitude 9.0.\n",
              " ,\n",
              " For decades, seismologists had believed that Japan could not experience an earthquake stronger than magnitude 8.4.,\n",
              " Earthquakes are common in Japan—that one was the third of the week—and the participants were, after all, at a seismology conference.]"
            ]
          },
          "metadata": {},
          "execution_count": 65
        }
      ]
    },
    {
      "cell_type": "code",
      "source": [
        "final_summary= [word.text for word in summary]\n",
        "final_summary\n"
      ],
      "metadata": {
        "colab": {
          "base_uri": "https://localhost:8080/"
        },
        "id": "cdIdCvG52533",
        "outputId": "d2f5fd1d-8f56-4c37-f0b9-e92be07d3096"
      },
      "execution_count": 66,
      "outputs": [
        {
          "output_type": "execute_result",
          "data": {
            "text/plain": [
              "['In 2005, however, at a conference in Hokudan, a Japanese geologist named Yasutaka Ikeda had argued that the nation should expect a magnitude 9.0 in the near future—with catastrophic consequences, because Japan’s famous earthquake-and-tsunami preparedness, including the height of its sea walls, was based on incorrect science.',\n",
              " 'When the next very big earthquake hits, the northwest edge of the continent, from California to Canada and the continental shelf to the Cascades, will drop by as much as six feet and rebound thirty to a hundred feet to the west—losing, within minutes, all the elevation and compression it has gained over centuries.',\n",
              " 'When the next full-margin rupture happens, that region will suffer the worst natural disaster in the history of North America, outside of the 2010 Haiti earthquake, which killed upward of a hundred thousand people.',\n",
              " 'For the San Andreas, one of the most extensively studied and best understood fault lines in the world, that upper limit is roughly an 8.2—a powerful earthquake, but, because the Richter scale is logarithmic, only six per cent as strong as the 2011 event in Japan.\\n\\n',\n",
              " 'In the end, the magnitude-9.0 Tohoku earthquake and subsequent tsunami killed more than eighteen thousand people, devastated northeast Japan, triggered the meltdown at the Fukushima power plant, and cost an estimated two hundred and twenty billion dollars.',\n",
              " 'If, on that occasion, only the southern part of the Cascadia subduction zone gives way—your first two fingers, say—the magnitude of the resulting quake will be somewhere between 8.0 and 8.6.',\n",
              " 'A minute-long quake is in the high sevens, a two-minute quake has entered the eights, and a three-minute quake is in the high eights.',\n",
              " 'The 1989 earthquake in Loma Prieta, California, which killed sixty-three people and caused six billion dollars’ worth of damage, lasted about fifteen seconds and had a magnitude of 6.9.',\n",
              " 'fema projects that nearly thirteen thousand people will die in the Cascadia earthquake and tsunami.',\n",
              " 'Most people in the United States know just one fault line by name: the San Andreas, which runs nearly the length of California and is perpetually rumored to be on the verge of unleashing “the big one.”',\n",
              " 'The truly worrisome figures in this story are these: Thirty years ago, no one knew that the Cascadia subduction zone had ever produced a major earthquake.',\n",
              " 'But for Chris Goldfinger, a paleoseismologist at Oregon State University and one of the world’s leading experts on a little-known fault line, the main quake was itself a kind of foreshock: a preview of another earthquake still to come.\\n\\n',\n",
              " 'By comparison, roughly three thousand people died in San Francisco’s 1906 earthquake.',\n",
              " 'In the Pacific Northwest, the area of impact will cover some hundred and forty thousand square miles, including Seattle, Tacoma, Portland, Eugene, Salem (the capital city of Oregon), Olympia (the capital of Washington), and some seven million people.',\n",
              " '“This is one time that I’m hoping all the science is wrong, and it won’t happen for another thousand years,” Murphy says.\\n\\n',\n",
              " 'Thanks to work done by him and his colleagues, we now know that the odds of the big Cascadia earthquake happening in the next fifty years are roughly one in three.',\n",
              " '\\nWhen the 2011 earthquake and tsunami struck Tohoku, Japan, Chris Goldfinger was two hundred miles away, in the city of Kashiwa, at an international meeting on seismology.',\n",
              " 'There is a backstop—the craton, that ancient unbudgeable mass at the center of the continent—and, sooner or later, North America will rebound like a spring.',\n",
              " 'The “subduction zone” part refers to a region of the planet where one tectonic plate is sliding underneath (subducting) another.',\n",
              " 'The other side will rush east, in a seven-hundred-mile liquid wall that will reach the Northwest coast, on average, fifteen minutes after the earthquake begins.',\n",
              " 'Another twenty-seven thousand will be injured, and the agency expects that it will need to provide shelter for a million displaced people, and food and water for another two and a half million.',\n",
              " 'Seismologists know that how long an earthquake lasts is a decent proxy for its magnitude.',\n",
              " 'Your left hand represents an oceanic plate called Juan de Fuca, ninety thousand square miles in size.',\n",
              " 'The shaking earlier in the week turned out to be the foreshocks of the largest earthquake in the nation’s recorded history.',\n",
              " 'For a moment, that was pretty cool: a real-time revolution in earthquake science.',\n",
              " 'A thirty-second earthquake generally has a magnitude in the mid-sevens.',\n",
              " 'By four minutes, an earthquake has hit magnitude 9.0.\\n\\n',\n",
              " 'For decades, seismologists had believed that Japan could not experience an earthquake stronger than magnitude 8.4.',\n",
              " 'Earthquakes are common in Japan—that one was the third of the week—and the participants were, after all, at a seismology conference.']"
            ]
          },
          "metadata": {},
          "execution_count": 66
        }
      ]
    },
    {
      "cell_type": "code",
      "source": [
        "summary= ''.join(final_summary)\n",
        "print(summary)"
      ],
      "metadata": {
        "colab": {
          "base_uri": "https://localhost:8080/"
        },
        "id": "c9JCnZ_i3ZW-",
        "outputId": "cb6b66d7-bd78-4c63-8a8b-3b5abb28a4b3"
      },
      "execution_count": 67,
      "outputs": [
        {
          "output_type": "stream",
          "name": "stdout",
          "text": [
            "In 2005, however, at a conference in Hokudan, a Japanese geologist named Yasutaka Ikeda had argued that the nation should expect a magnitude 9.0 in the near future—with catastrophic consequences, because Japan’s famous earthquake-and-tsunami preparedness, including the height of its sea walls, was based on incorrect science.When the next very big earthquake hits, the northwest edge of the continent, from California to Canada and the continental shelf to the Cascades, will drop by as much as six feet and rebound thirty to a hundred feet to the west—losing, within minutes, all the elevation and compression it has gained over centuries.When the next full-margin rupture happens, that region will suffer the worst natural disaster in the history of North America, outside of the 2010 Haiti earthquake, which killed upward of a hundred thousand people.For the San Andreas, one of the most extensively studied and best understood fault lines in the world, that upper limit is roughly an 8.2—a powerful earthquake, but, because the Richter scale is logarithmic, only six per cent as strong as the 2011 event in Japan.\n",
            "\n",
            "In the end, the magnitude-9.0 Tohoku earthquake and subsequent tsunami killed more than eighteen thousand people, devastated northeast Japan, triggered the meltdown at the Fukushima power plant, and cost an estimated two hundred and twenty billion dollars.If, on that occasion, only the southern part of the Cascadia subduction zone gives way—your first two fingers, say—the magnitude of the resulting quake will be somewhere between 8.0 and 8.6.A minute-long quake is in the high sevens, a two-minute quake has entered the eights, and a three-minute quake is in the high eights.The 1989 earthquake in Loma Prieta, California, which killed sixty-three people and caused six billion dollars’ worth of damage, lasted about fifteen seconds and had a magnitude of 6.9.fema projects that nearly thirteen thousand people will die in the Cascadia earthquake and tsunami.Most people in the United States know just one fault line by name: the San Andreas, which runs nearly the length of California and is perpetually rumored to be on the verge of unleashing “the big one.”The truly worrisome figures in this story are these: Thirty years ago, no one knew that the Cascadia subduction zone had ever produced a major earthquake.But for Chris Goldfinger, a paleoseismologist at Oregon State University and one of the world’s leading experts on a little-known fault line, the main quake was itself a kind of foreshock: a preview of another earthquake still to come.\n",
            "\n",
            "By comparison, roughly three thousand people died in San Francisco’s 1906 earthquake.In the Pacific Northwest, the area of impact will cover some hundred and forty thousand square miles, including Seattle, Tacoma, Portland, Eugene, Salem (the capital city of Oregon), Olympia (the capital of Washington), and some seven million people.“This is one time that I’m hoping all the science is wrong, and it won’t happen for another thousand years,” Murphy says.\n",
            "\n",
            "Thanks to work done by him and his colleagues, we now know that the odds of the big Cascadia earthquake happening in the next fifty years are roughly one in three.\n",
            "When the 2011 earthquake and tsunami struck Tohoku, Japan, Chris Goldfinger was two hundred miles away, in the city of Kashiwa, at an international meeting on seismology.There is a backstop—the craton, that ancient unbudgeable mass at the center of the continent—and, sooner or later, North America will rebound like a spring.The “subduction zone” part refers to a region of the planet where one tectonic plate is sliding underneath (subducting) another.The other side will rush east, in a seven-hundred-mile liquid wall that will reach the Northwest coast, on average, fifteen minutes after the earthquake begins.Another twenty-seven thousand will be injured, and the agency expects that it will need to provide shelter for a million displaced people, and food and water for another two and a half million.Seismologists know that how long an earthquake lasts is a decent proxy for its magnitude.Your left hand represents an oceanic plate called Juan de Fuca, ninety thousand square miles in size.The shaking earlier in the week turned out to be the foreshocks of the largest earthquake in the nation’s recorded history.For a moment, that was pretty cool: a real-time revolution in earthquake science.A thirty-second earthquake generally has a magnitude in the mid-sevens.By four minutes, an earthquake has hit magnitude 9.0.\n",
            "\n",
            "For decades, seismologists had believed that Japan could not experience an earthquake stronger than magnitude 8.4.Earthquakes are common in Japan—that one was the third of the week—and the participants were, after all, at a seismology conference.\n"
          ]
        }
      ]
    },
    {
      "cell_type": "code",
      "source": [],
      "metadata": {
        "id": "zxV7nIj63ubH"
      },
      "execution_count": null,
      "outputs": []
    }
  ]
}